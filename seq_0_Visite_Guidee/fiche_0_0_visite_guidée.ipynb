{
 "cells": [
  {
   "cell_type": "markdown",
   "metadata": {},
   "source": [
    "<img src=\"https://cdn.pixabay.com/photo/2015/10/13/16/51/bus-986477_960_720.jpg\" align=right width=\"400\">  \n",
    "\n",
    "# Séquence 0 / Fiche 0 - Python : visite guidée  \n",
    "Bienvenue sur le Jupyter du **Cours d'initiation au développement du DUT INFO/Vélizy**.\n",
    "\n",
    "Dans cette fiche, nous allons passer rapidement en revue certains concepts de python que nous développerons de façon plus approfondie tout au long du semestre. Juste de quoi vous donner le nécessaire pour commencer...  \n",
    "\n",
    "Dans les séquences de travail, vous rencontrerez certains logos :\n",
    " * <img src=\"https://cdn.pixabay.com/photo/2018/01/04/16/53/building-3061124_960_720.png\" width=30 align=left><div class=\"alert alert-block alert-danger\"> indique un exercice à réaliser  </div>\n",
    " * <img src=\"https://cdn.pixabay.com/photo/2016/10/18/19/40/anatomy-1751201_960_720.png\" width=\"30\" align=left> <div class=\"alert alert-block alert-info\">indique un point important qui nécessite une réponse de votre part et sera ensuite demandé lors du bilan de la séquence</div>"
   ]
  },
  {
   "cell_type": "code",
   "execution_count": 2,
   "metadata": {
    "scrolled": false
   },
   "outputs": [
    {
     "name": "stdout",
     "output_type": "stream",
     "text": [
      "C'est parti\n"
     ]
    }
   ],
   "source": [
    "print(\"C'est parti\") # print permet d'afficher quelque chose à l'écran"
   ]
  },
  {
   "cell_type": "markdown",
   "metadata": {},
   "source": [
    "<img src=\"https://cdn.pixabay.com/photo/2016/10/18/19/40/anatomy-1751201_960_720.png\" width=\"30\" align=left><div class=\"alert alert-block alert-info\">**TRES IMPORTANT** : [la documentation officielle de python](https://docs.python.org/fr/3/) en français vous aidera énormément, prenez l'habitude de la consulter afin de connaître la vérité !  \n",
    "**ATTENTION**, veillez bien à ce que la version de la doc python (en haut à gauche) corresponde à celle que vous utilisez.</div>"
   ]
  },
  {
   "cell_type": "code",
   "execution_count": 3,
   "metadata": {
    "scrolled": false
   },
   "outputs": [
    {
     "name": "stdout",
     "output_type": "stream",
     "text": [
      "Vous travaillez actuellement sur la version 3.8.10 (default, Jun  2 2021, 10:49:15) \n",
      "[GCC 9.4.0]\n"
     ]
    }
   ],
   "source": [
    "import sys\n",
    "print(\"Vous travaillez actuellement sur la version\",sys.version)"
   ]
  },
  {
   "cell_type": "markdown",
   "metadata": {},
   "source": [
    "## Valeurs, objets, identifiants\n",
    "Un **identifiant** est un lien vers un espace de stockage de données. \n",
    "Lorsqu'on écrit `a=2` python crée automatiquement un espace de stockage pour la **valeur** `2`, qu'on peut atteindre avec l'identifiant `a`. Dans les langages de programmation plus anciens, on parlait de **variable**...et comme nous avons pris de mauvaises habitudes on risque de continuer à utiliser ce terme. ;)\n",
    "\n",
    "Un **objet** est une valeur qui possède des super-pouvoirs, et dont nous expliquerons le fonctionnement plus tard.   \n",
    "Retenez juste que depuis la version 3 de python, **tout est objet**."
   ]
  },
  {
   "cell_type": "markdown",
   "metadata": {},
   "source": [
    "## Règles pour les identifiants\n",
    "Un identifiant permet donc d'accéder à une variable/objet. Cet identifiant doit respecter:\n",
    " * des contraintes grammaticales (obligatoires)\n",
    " * des conventions d'écriture (facultatives)\n",
    "\n",
    "Les règles de bon usage de python sont décrites dans des documents officiels nommés PEP. Vous trouverez les contraintes et conventions d'écriture dans la [PEP8](https://openclassrooms.com/fr/courses/4425111-perfectionnez-vous-en-python/4464230-assimilez-les-bonnes-pratiques-de-la-pep-8).\n",
    "\n",
    "Les principales **contraintes grammaticales** pour les identifiants sont :\n",
    " * pas d'accents\n",
    " * pas de chiffre en début d'identifiant\n",
    " * pas de symboles de ponctuation, d'espace, d'apostrophe, de guillements, de slash; seul underscore _ autorisé\n",
    "\n",
    "Et les principales **conventions d'écriture** sont :\n",
    " * variables/objets en minuscules : truc, et pas Truc ni TRUC\n",
    " * constantes (qui n'existent pas formellement en python) en majuscules : TRUC\n",
    " * des séparations de mots par majuscules ([Camel case](https://fr.wikipedia.org/wiki/Camel_case)) : nbBilles, distVilleDepart\n",
    " * des espaces de séparation afin d'alléger la lecture: `a = 2`\n",
    " "
   ]
  },
  {
   "cell_type": "markdown",
   "metadata": {},
   "source": [
    "### Exercice 1 - identifiants<img src=\"https://cdn.pixabay.com/photo/2018/01/04/16/53/building-3061124_960_720.png\" width=50 align=left>\n",
    "<div class=\"alert alert-block alert-danger\">Corrigez les problèmes ci-dessous</div>\n"
   ]
  },
  {
   "cell_type": "code",
   "execution_count": null,
   "metadata": {
    "scrolled": true
   },
   "outputs": [],
   "source": [
    "l'avion = \"rafale\"\n",
    "tire-bouchon = True\n",
    "5malo = \"Bretagne\"\n",
    "étage = 2"
   ]
  },
  {
   "cell_type": "markdown",
   "metadata": {},
   "source": [
    "## Types/classes\n",
    "Chaque valeur/objet possède un type/classe, qui indique ses capacités.\n",
    "Les principaux types/classes natives sont :\n",
    " * `int` : type entier relatif, pas de valeur maximale depuis python3\n",
    " * `float` : nombres décimaux\n",
    " * `str` : chaînes de caractères (lettres, mots, phrases, délimités par des \\' ou des \\\" )\n",
    " * `bool` : booléens (`True` ou `False`)\n",
    " * `list` : listes, ou tableaux (symbolisés par des \\[ \\] )\n",
    " * `dict` : dictionnaires (symbolisés par des \\{ \\} )\n",
    " * `set` : ensembles au sens mathématique\n",
    " * `tuples` : couples, triplets, n-uplets (ex: (5,2) ou (3,9,2) )"
   ]
  },
  {
   "cell_type": "markdown",
   "metadata": {},
   "source": [
    "### Exercice 2 - Types <img src=\"https://cdn.pixabay.com/photo/2018/01/04/16/53/building-3061124_960_720.png\" width=50 align=left>\n",
    "<img src=\"https://cdn.pixabay.com/photo/2018/01/04/16/53/building-3061124_960_720.png\" width=30 align=left><div class=\"alert alert-block alert-danger\"><b>Ex2.1</b> Dans l'exemple ci-dessous, modifiez la valeur de `a` afin d'obtenir un type `float`. </div>\n"
   ]
  },
  {
   "cell_type": "code",
   "execution_count": null,
   "metadata": {},
   "outputs": [],
   "source": [
    "a = 12\n",
    "print(type(a))"
   ]
  },
  {
   "cell_type": "markdown",
   "metadata": {},
   "source": [
    "<img src=\"https://cdn.pixabay.com/photo/2018/01/04/16/53/building-3061124_960_720.png\" width=30 align=left><div class=\"alert alert-block alert-danger\">**Ex2.2** Faites de même afin d'obtenir un type `str` contenant `aujourd'hui`.</div>"
   ]
  },
  {
   "cell_type": "code",
   "execution_count": null,
   "metadata": {},
   "outputs": [],
   "source": []
  },
  {
   "cell_type": "markdown",
   "metadata": {},
   "source": [
    "<img src=\"https://cdn.pixabay.com/photo/2018/01/04/16/53/building-3061124_960_720.png\" width=30 align=left><div class=\"alert alert-block alert-danger\">**Ex2.3** Faites de même afin d'obtenir un type `bool`.</div>"
   ]
  },
  {
   "cell_type": "code",
   "execution_count": null,
   "metadata": {},
   "outputs": [],
   "source": []
  },
  {
   "cell_type": "markdown",
   "metadata": {},
   "source": [
    "<img src=\"https://cdn.pixabay.com/photo/2018/01/04/16/53/building-3061124_960_720.png\" width=30 align=left><div class=\"alert alert-block alert-danger\">**Ex2.4** Faites de même afin d'obtenir un type `list`.</div>"
   ]
  },
  {
   "cell_type": "code",
   "execution_count": null,
   "metadata": {},
   "outputs": [],
   "source": []
  },
  {
   "cell_type": "markdown",
   "metadata": {},
   "source": [
    "Pour les autres types, nous verrons ultérieurement comment procéder."
   ]
  },
  {
   "cell_type": "markdown",
   "metadata": {},
   "source": [
    "## Opérateurs numériques\n",
    "Les opérateurs permettent de réaliser des opérations sur les valeurs/objets.  \n",
    "Les **opérateurs numériques** usuels sont : `+ - * / // % **`  \n",
    "Leur comportement dépend des types concernés."
   ]
  },
  {
   "cell_type": "markdown",
   "metadata": {},
   "source": [
    "### Exercices 3 - opérateurs standards<img src=\"https://cdn.pixabay.com/photo/2018/01/04/16/53/building-3061124_960_720.png\" width=50 align=left>  \n",
    "  \n",
    "  \n",
    "<img src=\"https://cdn.pixabay.com/photo/2018/01/04/16/53/building-3061124_960_720.png\" width=30 align=left>  <div class=\"alert alert-block alert-danger\">**Ex3.1 - `+` entre `int`**  \n",
    "Utilisez l'opérateur `+` entre deux `int` et affichez le type du résultat obtenu.</div>"
   ]
  },
  {
   "cell_type": "code",
   "execution_count": null,
   "metadata": {},
   "outputs": [],
   "source": [
    "a=5+2\n",
    "type(a)"
   ]
  },
  {
   "cell_type": "markdown",
   "metadata": {},
   "source": [
    "<img src=\"https://cdn.pixabay.com/photo/2018/01/04/16/53/building-3061124_960_720.png\" width=30 align=left>  <div class=\"alert alert-block alert-danger\">**Ex3.2 - `+` entre `float` et `int`**  \n",
    "Utilisez l'opérateur `+` entre un `float`et un `int` et affichez le résultat obtenu, et son type.</div>"
   ]
  },
  {
   "cell_type": "code",
   "execution_count": null,
   "metadata": {
    "scrolled": true
   },
   "outputs": [],
   "source": [
    "a=5.2+2\n",
    "print(a,type(a))"
   ]
  },
  {
   "cell_type": "markdown",
   "metadata": {},
   "source": [
    "<img src=\"https://cdn.pixabay.com/photo/2016/10/18/19/40/anatomy-1751201_960_720.png\" width=\"30\" align=left><div class=\"alert alert-block alert-info\">**IMPORTANT** : lorsqu'on utilise des opérateurs, il existe un mécanisme de conversion implicite qui...</div>"
   ]
  },
  {
   "cell_type": "markdown",
   "metadata": {},
   "source": [
    "<img src=\"https://cdn.pixabay.com/photo/2018/01/04/16/53/building-3061124_960_720.png\" width=30 align=left><div class=\"alert alert-block alert-danger\">**Ex3.3 - `+` entre `str`**  \n",
    "Utilisez l'opérateur `+` entre deux `str` et affichez le résultat obtenu, et son type.</div>"
   ]
  },
  {
   "cell_type": "code",
   "execution_count": null,
   "metadata": {},
   "outputs": [],
   "source": [
    "a='bo'+'dega'\n",
    "print(a,type(a))"
   ]
  },
  {
   "cell_type": "markdown",
   "metadata": {},
   "source": [
    "<img src=\"https://cdn.pixabay.com/photo/2018/01/04/16/53/building-3061124_960_720.png\" width=30 align=left><div class=\"alert alert-block alert-danger\">**Ex3.4 - `+` entre `str` et`int`**  \n",
    "Utilisez l'opérateur `+` entre un `str`et un `int` et affichez le résultat obtenu, et son type.</div>"
   ]
  },
  {
   "cell_type": "code",
   "execution_count": 4,
   "metadata": {},
   "outputs": [
    {
     "ename": "TypeError",
     "evalue": "can only concatenate str (not \"int\") to str",
     "output_type": "error",
     "traceback": [
      "\u001b[0;31m---------------------------------------------------------------------------\u001b[0m",
      "\u001b[0;31mTypeError\u001b[0m                                 Traceback (most recent call last)",
      "\u001b[0;32m<ipython-input-4-a7b9b0707044>\u001b[0m in \u001b[0;36m<module>\u001b[0;34m\u001b[0m\n\u001b[0;32m----> 1\u001b[0;31m \u001b[0ma\u001b[0m\u001b[0;34m=\u001b[0m\u001b[0;34m\"ff\"\u001b[0m\u001b[0;34m+\u001b[0m\u001b[0;36m2\u001b[0m\u001b[0;34m\u001b[0m\u001b[0;34m\u001b[0m\u001b[0m\n\u001b[0m\u001b[1;32m      2\u001b[0m \u001b[0mprint\u001b[0m\u001b[0;34m(\u001b[0m\u001b[0ma\u001b[0m\u001b[0;34m,\u001b[0m\u001b[0mtype\u001b[0m\u001b[0;34m(\u001b[0m\u001b[0ma\u001b[0m\u001b[0;34m)\u001b[0m\u001b[0;34m)\u001b[0m\u001b[0;34m\u001b[0m\u001b[0;34m\u001b[0m\u001b[0m\n",
      "\u001b[0;31mTypeError\u001b[0m: can only concatenate str (not \"int\") to str"
     ]
    }
   ],
   "source": [
    "a=\"ff\"+2\n",
    "print(a,type(a))"
   ]
  },
  {
   "cell_type": "markdown",
   "metadata": {},
   "source": [
    "<img src=\"https://cdn.pixabay.com/photo/2016/10/18/19/40/anatomy-1751201_960_720.png\" width=\"30\" align=left><div class=\"alert alert-block alert-info\">**IMPORTANT** : Pour l'opérateur `+`, nous pouvons en conclure que...</div>"
   ]
  },
  {
   "cell_type": "markdown",
   "metadata": {},
   "source": [
    "<img src=\"https://cdn.pixabay.com/photo/2018/01/04/16/53/building-3061124_960_720.png\" width=30 align=left><div class=\"alert alert-block alert-danger\">**Ex3.5 - `*` entre`str` et `int`**  \n",
    "Utilisez maintenant l'opérateur `*` entre un `str`et un `int` et affichez le résultat obtenu, et son type.</div>"
   ]
  },
  {
   "cell_type": "code",
   "execution_count": null,
   "metadata": {},
   "outputs": [],
   "source": [
    "a = 8 * 'bob'\n",
    "print(a,type(a))"
   ]
  },
  {
   "cell_type": "markdown",
   "metadata": {},
   "source": [
    "<img src=\"https://cdn.pixabay.com/photo/2018/01/04/16/53/building-3061124_960_720.png\" width=30 align=left><div class=\"alert alert-block alert-danger\">**Ex3.6 - Que font `/` et `//` ?**  \n",
    "Essayez de distinguer les comportements de `/` et `//` :\n",
    " * quelles opérations réalisent-ils ?\n",
    " * à quel(s) type(s) peuvent-ils être associés?\n",
    " </div>"
   ]
  },
  {
   "cell_type": "code",
   "execution_count": null,
   "metadata": {},
   "outputs": [],
   "source": []
  },
  {
   "cell_type": "markdown",
   "metadata": {},
   "source": [
    "<img src=\"https://cdn.pixabay.com/photo/2016/10/18/19/40/anatomy-1751201_960_720.png\" width=\"30\" align=left> <div class=\"alert alert-block alert-info\">**IMPORTANT** : les opérateurs `/` et `//` réalisent respectivement des opérations de...  \n",
    "    \n",
    "Ils s'appliquent aux valeurs de type...</div>"
   ]
  },
  {
   "cell_type": "markdown",
   "metadata": {},
   "source": [
    "<img src=\"https://cdn.pixabay.com/photo/2018/01/04/16/53/building-3061124_960_720.png\" width=30 align=left><div class=\"alert alert-block alert-danger\">**Ex3.7 - Que fait l'opérateur \\*\\* ?**</div>"
   ]
  },
  {
   "cell_type": "code",
   "execution_count": null,
   "metadata": {},
   "outputs": [],
   "source": []
  },
  {
   "cell_type": "markdown",
   "metadata": {},
   "source": [
    "<img src=\"https://cdn.pixabay.com/photo/2016/10/18/19/40/anatomy-1751201_960_720.png\" width=\"30\" align=left><div class=\"alert alert-block alert-info\">**IMPORTANT** : l'opérateur `**` permet de...</div>"
   ]
  },
  {
   "cell_type": "markdown",
   "metadata": {},
   "source": [
    "### Exercice 4 - modulo <img src=\"https://cdn.pixabay.com/photo/2018/01/04/16/53/building-3061124_960_720.png\" width=50 align=left>\n",
    "L'**opérateur modulo %** permet d'obtenir le reste de la division entière.  \n",
    "\n",
    "<img src=\"https://cdn.pixabay.com/photo/2018/01/04/16/53/building-3061124_960_720.png\" width=30 align=left><div class=\"alert alert-block alert-danger\">**Ex4.0 - Pair ?**  \n",
    "Quel calcul effectuer afin de savoir si `n` est pair ?</div>"
   ]
  },
  {
   "cell_type": "code",
   "execution_count": null,
   "metadata": {},
   "outputs": [],
   "source": [
    "n = 35"
   ]
  },
  {
   "cell_type": "markdown",
   "metadata": {},
   "source": [
    "<img src=\"https://cdn.pixabay.com/photo/2018/01/04/16/53/building-3061124_960_720.png\" width=30 align=left><div class=\"alert alert-block alert-danger\">**Ex4.1 - Multiple de ?**  \n",
    "8751212 est-il un multiple de 3 ?</div>"
   ]
  },
  {
   "cell_type": "code",
   "execution_count": null,
   "metadata": {},
   "outputs": [],
   "source": []
  },
  {
   "cell_type": "markdown",
   "metadata": {},
   "source": [
    "<img src=\"https://cdn.pixabay.com/photo/2018/01/04/16/53/building-3061124_960_720.png\" width=30 align=left><div class=\"alert alert-block alert-danger\">**Ex4.2 - Modulogâteau** 🍰🍰🍰🍰🍰  \n",
    "20 parts de gâteaux, 7 invité.e.s, combien de parts de gâteau chacun.e et combien de parts restantes ?</div>"
   ]
  },
  {
   "cell_type": "code",
   "execution_count": null,
   "metadata": {
    "scrolled": true
   },
   "outputs": [],
   "source": []
  },
  {
   "cell_type": "markdown",
   "metadata": {},
   "source": [
    "## Opérateurs d'affectation\n",
    "Les **opérateurs d'affectation** sont : `= += -+ *+ /= //* %=`.  \n",
    "\n",
    "Le `=` permet évidemment d'associer une valeur/objet à un identificateur.  \n",
    "Les autres opérateurs d'affectation sont en fait du sucre syntaxique: ils ne sont pas indispensables mais simplifient les écritures.\n",
    "\n",
    "### Exercice 5 - Modifier une valeur<img src=\"https://cdn.pixabay.com/photo/2018/01/04/16/53/building-3061124_960_720.png\" width=50 align=left>  \n",
    "<img src=\"https://cdn.pixabay.com/photo/2018/01/04/16/53/building-3061124_960_720.png\" width=30 align=left><div class=\"alert alert-block alert-danger\">**Ex5.1 - La classique**  \n",
    "Dans le code suivant, en utilisant les opérateurs standards `-` et `/`, effectuez des opérations diminuant `a`de 4 puis réduisant de moitié sa valeur.  </div>"
   ]
  },
  {
   "cell_type": "code",
   "execution_count": null,
   "metadata": {},
   "outputs": [],
   "source": [
    "a = 18"
   ]
  },
  {
   "cell_type": "markdown",
   "metadata": {},
   "source": [
    "<img src=\"https://cdn.pixabay.com/photo/2018/01/04/16/53/building-3061124_960_720.png\" width=30 align=left><div class=\"alert alert-block alert-danger\">**Ex5.2 - La sucre syntaxique**   \n",
    "Effectuez les mêmes opérations en utilisant les opérateurs `-=` et `/=`.</div>"
   ]
  },
  {
   "cell_type": "code",
   "execution_count": null,
   "metadata": {},
   "outputs": [],
   "source": [
    "a = 18"
   ]
  },
  {
   "cell_type": "markdown",
   "metadata": {},
   "source": [
    "<img src=\"https://cdn.pixabay.com/photo/2018/01/04/16/53/building-3061124_960_720.png\" width=30 align=left><div class=\"alert alert-block alert-danger\">**Ex5.3 - La jambon-oeuf-fromage**   \n",
    "Pouvez-vous réaliser le même calcul en une seule ligne, avec un seul des opérateurs d'affectation ?</div>"
   ]
  },
  {
   "cell_type": "code",
   "execution_count": null,
   "metadata": {},
   "outputs": [],
   "source": [
    "a = 18"
   ]
  },
  {
   "cell_type": "markdown",
   "metadata": {},
   "source": [
    "<img src=\"https://cdn.pixabay.com/photo/2016/10/18/19/40/anatomy-1751201_960_720.png\" width=\"30\" align=left><div class=\"alert alert-block alert-info\">**IMPORTANT :**  l'opérateur `+=` permet de remplacer...</div>"
   ]
  },
  {
   "cell_type": "markdown",
   "metadata": {},
   "source": [
    "## Opérateurs de comparaison et opérateurs logiques\n",
    "Les **opérateurs de comparaison** sont : `==, <, <=, >=, >, !=`.  \n",
    "\n",
    "Associés à des **expressions** (comme `2*a+1` ou ` 5.2`), ils permettent d'obtenir **une valeur de vérité** (`True` ou `False`). Par exemple:"
   ]
  },
  {
   "cell_type": "code",
   "execution_count": null,
   "metadata": {},
   "outputs": [],
   "source": [
    "a=18\n",
    "print(a==12)"
   ]
  },
  {
   "cell_type": "markdown",
   "metadata": {},
   "source": [
    "Les **opérateurs logiques** usuels sont `and, or, not`.  \n",
    "Ils permettent d'associer une ou plusieurs valeurs de vérité et d'obtenir une valeur de vérité.  \n",
    "Par exemple:"
   ]
  },
  {
   "cell_type": "code",
   "execution_count": null,
   "metadata": {},
   "outputs": [],
   "source": [
    "a = 18\n",
    "b = 12\n",
    "print(a>=18 and b!=5)"
   ]
  },
  {
   "cell_type": "markdown",
   "metadata": {},
   "source": [
    "### Exercice 6 - Quête de vérité\n",
    "<img src=\"https://cdn.pixabay.com/photo/2018/01/04/16/53/building-3061124_960_720.png\" width=50 align=left> \n",
    "<img src=\"https://cdn.pixabay.com/photo/2018/01/04/16/53/building-3061124_960_720.png\" width=30 align=left><div class=\"alert alert-block alert-danger\">**Ex6.1 - Minority report**  \n",
    "Ecrivez une expression utilisant opérateurs de comparaison et/ou opérateurs logiques, et permettant d'afficher si `bob` est mineur (`True`) ou majeur (`False`). **Attention**, votre programme doit renvoyer `False` en cas de valeur négative.  \n",
    "Exemple:  \n",
    "    12 : `True`  \n",
    "    -2 : `False` </div>"
   ]
  },
  {
   "cell_type": "raw",
   "metadata": {},
   "source": [
    "bob = 17"
   ]
  },
  {
   "cell_type": "markdown",
   "metadata": {},
   "source": [
    "<img src=\"https://cdn.pixabay.com/photo/2018/01/04/16/53/building-3061124_960_720.png\" width=30 align=left><div class=\"alert alert-block alert-danger\">**Ex6.2 - Minority report 2**  \n",
    "Même exercice, mais vous n'avez le droit d'utiliser que des opérateurs de comparaison (pas d'opérateurs logiques).</div>"
   ]
  },
  {
   "cell_type": "code",
   "execution_count": null,
   "metadata": {},
   "outputs": [],
   "source": []
  },
  {
   "cell_type": "markdown",
   "metadata": {},
   "source": [
    "<img src=\"https://cdn.pixabay.com/photo/2016/10/18/19/40/anatomy-1751201_960_720.png\" width=\"30\" align=left> <div class=\"alert alert-block alert-info\">**IMPORTANT** : en python, on peut écrire des égalités, des inégalités, mais également des...</div>"
   ]
  },
  {
   "cell_type": "markdown",
   "metadata": {},
   "source": [
    "<img src=\"https://cdn.pixabay.com/photo/2018/01/04/16/53/building-3061124_960_720.png\" width=30 align=left><div class=\"alert alert-block alert-danger\">**Ex6.3 - Chiffre pair**  \n",
    "Ecrivez une expression permettant d'afficher si `n` est bien un __chiffre__ pair.  \n",
    "Exemple: 12 est pair mais n'est pas un chiffre donc `False` , 3 est un chiffre impair donc `False` </div>"
   ]
  },
  {
   "cell_type": "code",
   "execution_count": null,
   "metadata": {},
   "outputs": [],
   "source": [
    "n = 12"
   ]
  },
  {
   "cell_type": "markdown",
   "metadata": {},
   "source": [
    "<img src=\"https://cdn.pixabay.com/photo/2018/01/04/16/53/building-3061124_960_720.png\" width=30 align=left><div class=\"alert alert-block alert-danger\">**Ex6.4 - Même signe**  \n",
    "Ecrivez une expression permettant d'afficher si `n` et `m` sont bien de même signe.</div>"
   ]
  },
  {
   "cell_type": "code",
   "execution_count": null,
   "metadata": {},
   "outputs": [],
   "source": [
    "n = 12\n",
    "m = -2"
   ]
  },
  {
   "cell_type": "markdown",
   "metadata": {},
   "source": [
    "<img src=\"https://cdn.pixabay.com/photo/2018/01/04/16/53/building-3061124_960_720.png\" width=30 align=left><div class=\"alert alert-block alert-danger\">**Ex6.5 - Table de vérité du OU**  \n",
    "Complétez l'affichage de la table de vérité (toutes les possibilités d'association de booléens) de l'opérateur OU.</div>"
   ]
  },
  {
   "cell_type": "code",
   "execution_count": 12,
   "metadata": {},
   "outputs": [
    {
     "name": "stdout",
     "output_type": "stream",
     "text": [
      "True or True = True\n"
     ]
    }
   ],
   "source": [
    "print(True,\"or\",True,\"=\",True or True)\n",
    "#etc..."
   ]
  },
  {
   "cell_type": "markdown",
   "metadata": {},
   "source": [
    "<img src=\"https://cdn.pixabay.com/photo/2021/04/13/09/50/road-6175186_960_720.jpg\" width=350><div class=\"alert alert-block alert-info\">\n",
    "## __BILAN__\n",
    "En python, les **identifiants** doivent respecter...  \n",
    "La **valeur/objet** associée à un identifiant permet de déterminer automatiquement...  \n",
    "Les **opérateurs** se comportent différemment en fonction...  \n",
    "Lorsqu'on utilise des opérateurs, il existe un mécanisme de conversion implicite qui...\n",
    "Les principaux **opérateurs numériques** sont...  \n",
    "Parmi ces opérateurs numériques, certains sont un peu particuliers:\n",
    " * `//` qui...\n",
    " * `%` qui...\n",
    " * `**` qui...  \n",
    " \n",
    "Les **opérateurs d'affectation** sont...  \n",
    "Les **opérateurs de comparaison** sont...  \n",
    "Les **opérateurs logiques** sont...\n",
    "</div>"
   ]
  },
  {
   "cell_type": "code",
   "execution_count": null,
   "metadata": {},
   "outputs": [],
   "source": []
  }
 ],
 "metadata": {
  "kernelspec": {
   "display_name": "Python 3",
   "language": "python",
   "name": "python3"
  },
  "language_info": {
   "codemirror_mode": {
    "name": "ipython",
    "version": 3
   },
   "file_extension": ".py",
   "mimetype": "text/x-python",
   "name": "python",
   "nbconvert_exporter": "python",
   "pygments_lexer": "ipython3",
   "version": "3.8.10"
  }
 },
 "nbformat": 4,
 "nbformat_minor": 2
}
