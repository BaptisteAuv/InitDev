{
 "cells": [
  {
   "cell_type": "markdown",
   "metadata": {},
   "source": [
    "<img src=\"https://cdn.pixabay.com/photo/2020/06/12/20/33/decision-5291766_960_720.jpg\" align=right width=\"400\">  \n",
    "\n",
    "# Séquence 0 / Fiche 1 - Python : entrées/sorties, structures conditionnelles, boucles  \n",
    "Bienvenue sur le Jupyter du **Cours d'initiation au développement du DUT INFO/Vélizy**.\n",
    "\n",
    "Dans cette fiche, nous allons aborder:\n",
    " * les entrées-sorties en python: jouer avec le chaînes de caractères et découvrir `input`\n",
    " * les structures conditionnelles: `if`, `else`, `elif` \n",
    " * un certain type de boucles: `while`\n",
    "\n",
    "Dans les séquences de travail, vous rencontrerez certains logos :\n",
    " * <img src=\"https://cdn.pixabay.com/photo/2018/01/04/16/53/building-3061124_960_720.png\" width=30 align=left><div class=\"alert alert-block alert-danger\"> indique un exercice à réaliser  </div>\n",
    " * <img src=\"https://cdn.pixabay.com/photo/2016/10/18/19/40/anatomy-1751201_960_720.png\" width=\"30\" align=left> <div class=\"alert alert-block alert-info\">indique un point important qui nécessite une réponse de votre part et sera ensuite demandé lors du bilan de la séquence</div>"
   ]
  },
  {
   "cell_type": "markdown",
   "metadata": {},
   "source": [
    "## Entrées/sorties\n",
    "On appelle entrées/sorties l'ensemble des flux qui transitent vers l'écran (sorties) ou depuis le clavier (entrées). Ces entrées/sorties (**input/output** ou **io** en anglais) vous permettent de communiquer avec votre machine.  \n",
    "\n",
    "Dans la séquence précédente, nous avons manipulé `print` sans en expliquer le fonctionnement en détail.\n",
    "\n",
    "### `print` pour les nuls\n",
    "Dans sa version de base, `print` permet d'afficher du texte, des variables."
   ]
  },
  {
   "cell_type": "code",
   "execution_count": 2,
   "metadata": {},
   "outputs": [
    {
     "name": "stdout",
     "output_type": "stream",
     "text": [
      "du texte\n",
      "des variables\n"
     ]
    }
   ],
   "source": [
    "print(\"du texte\")\n",
    "a,b = \"variables\", \"des\" # saviez-vous qu'on peut affecter simultanément plusieurs variables ?\n",
    "print(b,a)"
   ]
  },
  {
   "cell_type": "markdown",
   "metadata": {},
   "source": [
    "On peut aussi mêler texte et variables, de la façon suivante :"
   ]
  },
  {
   "cell_type": "code",
   "execution_count": 5,
   "metadata": {},
   "outputs": [
    {
     "name": "stdout",
     "output_type": "stream",
     "text": [
      "il est exactement 12 heures et 8 minutes\n"
     ]
    }
   ],
   "source": [
    "h = 12\n",
    "m = 8\n",
    "print(\"il est exactement\",h,\"heures et\",m,\"minutes\")"
   ]
  },
  {
   "cell_type": "markdown",
   "metadata": {},
   "source": [
    "<img src=\"https://cdn.pixabay.com/photo/2018/01/04/16/53/building-3061124_960_720.png\" width=30 align=left>  <div class=\"alert alert-block alert-danger\">**Ex1 - Restez zen**  \n",
    "Initialisez 3 variables `x`, `y` et `z` avec des valeurs quelconques et affichez quelque chose comme `coordonnées du point A(12,17,-5)`.</div>"
   ]
  },
  {
   "cell_type": "code",
   "execution_count": null,
   "metadata": {},
   "outputs": [],
   "source": []
  },
  {
   "cell_type": "markdown",
   "metadata": {
    "scrolled": true
   },
   "source": [
    "Après cet exercice, vous devez avoir compris que cette notation qui mélange texte et variables est extrêmement pénible.  \n",
    "Il nous faut une autre moyen de réaliser ce genre d'affichages...  \n",
    "\n",
    "### Formatage des chaînes de caractères\n",
    "Pour se simplifier la vie lors de l'affichage, on va utiliser le **formatage des chaînes de caractères**, qui permet de mêler facilement texte et variables, et de modifier le format des variables. "
   ]
  },
  {
   "cell_type": "markdown",
   "metadata": {},
   "source": [
    "<img src=\"https://cdn.pixabay.com/photo/2016/10/18/19/40/anatomy-1751201_960_720.png\" width=\"30\" align=left> <div class=\"alert alert-block alert-info\">**IMPORTANT** : Le format, c'est la façon d'afficher une variable.  \n",
    "    Par exemple, l'entier `12` peut être affiché sous forme de flottant `12.0` ou d'hexadécimal `0xC`.</div>"
   ]
  },
  {
   "cell_type": "markdown",
   "metadata": {},
   "source": [
    "Une chaîne de caractères quelconque peut être modifiée en y incluant des variables, de la façon suivante:"
   ]
  },
  {
   "cell_type": "code",
   "execution_count": 14,
   "metadata": {},
   "outputs": [
    {
     "name": "stdout",
     "output_type": "stream",
     "text": [
      "il a mangé 2 beignets\n"
     ]
    }
   ],
   "source": [
    "b = 2\n",
    "s = f\"il a mangé {b} beignets\"\n",
    "print(s)"
   ]
  },
  {
   "cell_type": "code",
   "execution_count": 15,
   "metadata": {},
   "outputs": [
    {
     "name": "stdout",
     "output_type": "stream",
     "text": [
      "C'est quand même 1 petit peu + simple, non?\n"
     ]
    }
   ],
   "source": [
    "q = \"quand\"\n",
    "p = \"+\"\n",
    "u = 1\n",
    "print(f\"C'est {q} même {u} petit peu {p} simple, non?\")"
   ]
  },
  {
   "cell_type": "markdown",
   "metadata": {},
   "source": [
    "Le préfixe `f` en amont d'une chaîne indique qu'on va formater la chaîne.  \n",
    "On peut, dans les accolades et à côté du nom de la variable utilisée, ajouter des instructions de formatage :"
   ]
  },
  {
   "cell_type": "code",
   "execution_count": 19,
   "metadata": {},
   "outputs": [
    {
     "name": "stdout",
     "output_type": "stream",
     "text": [
      "Ce truc coûte c€ mais on va plutôt afficher 12.00€.\n"
     ]
    }
   ],
   "source": [
    "pr = 12\n",
    "print(f\"Ce truc coûte {pr}€ mais on va plutôt afficher {pr:.2f}€.\")"
   ]
  },
  {
   "cell_type": "markdown",
   "metadata": {},
   "source": [
    "<img src=\"https://cdn.pixabay.com/photo/2016/10/18/19/40/anatomy-1751201_960_720.png\" width=\"30\" align=left> <div class=\"alert alert-block alert-info\">**IMPORTANT** : on peut formater (modifier le format) de ce que `print` affiche en utilisant `f` en amont de la chaîne, associé à des `{}`. Dans ces accolades, on précise la variable à afficher et éventuellement le format qu'on souhaite lui appliquer.  \n",
    "Exemples:\n",
    " * `f` convertit en **flottant**\n",
    " * `s` convertit en **string**\n",
    " * `x` convertit en **hexadécimal**\n",
    " * `3f` indique qu'on souhaite afficher la variable sur au moins 3 caractères\n",
    " * `.2f` indique qu'on souhaite une précision de 2 chiffres après la virgule\n",
    " \n",
    "Pour davantage de détails voir [le mini-langage de spécification de format](https://docs.python.org/fr/3/library/string.html#format-specification-mini-language).</div>"
   ]
  },
  {
   "cell_type": "markdown",
   "metadata": {},
   "source": [
    "<img src=\"https://cdn.pixabay.com/photo/2018/01/04/16/53/building-3061124_960_720.png\" width=30 align=left>  <div class=\"alert alert-block alert-danger\">**Ex2.1 - Mon beau tableau**  \n",
    "Dans le code suivant, réalisez un bel affichage de chaque nom et score sous forme de tableau, comme suit :  \n",
    "` .\n",
    "jack         5\n",
    "jo\t      17\n",
    "averell\t  0`</div>"
   ]
  },
  {
   "cell_type": "code",
   "execution_count": 26,
   "metadata": {
    "scrolled": true
   },
   "outputs": [],
   "source": [
    "nom1, score1 = \"jack\",5\n",
    "nom2, score2 = \"jo\", 17\n",
    "nom3, score3 = \"averell\", 0"
   ]
  },
  {
   "cell_type": "markdown",
   "metadata": {},
   "source": [
    "<img src=\"https://cdn.pixabay.com/photo/2018/01/04/16/53/building-3061124_960_720.png\" width=30 align=left>  <div class=\"alert alert-block alert-danger\">**Ex2.2 - Mon très beau tableau**  \n",
    "Améliorez encore le formatage afin d'aligner les noms à droite (à vous de chercher dans la doc comment procéder) :```  .    \n",
    "    jack\t  5\n",
    "      jo\t 17\n",
    " averell\t  0```</div>"
   ]
  },
  {
   "cell_type": "code",
   "execution_count": null,
   "metadata": {},
   "outputs": [],
   "source": []
  },
  {
   "cell_type": "markdown",
   "metadata": {},
   "source": [
    "## Structures conditionnelles\n",
    "Chaque valeur/objet possède un type/classe, qui indique ses capacités.\n",
    "Les principaux types/classes natives sont :\n",
    " * A OCCULTER\n",
    " * `int` : type entier relatif, pas de valeur maximale depuis python3\n",
    " * `float` : nombres décimaux\n",
    " * `str` : chaînes de caractères (lettres, mots, phrases, délimités par des \\' ou des \\\" )\n",
    " * `bool` : booléens (`True` ou `False`)\n",
    " * `list` : listes, ou tableaux (symbolisés par des \\[ \\] )\n",
    " * `dict` : dictionnaires (symbolisés par des \\{ \\} )\n",
    " * `set` : ensembles\n",
    " * `tuples` : les n-uplets (ex: (5,2) ou (3,9,2) )"
   ]
  },
  {
   "cell_type": "markdown",
   "metadata": {},
   "source": [
    "### Exercice 2 - Types <img src=\"https://cdn.pixabay.com/photo/2018/01/04/16/53/building-3061124_960_720.png\" width=50 align=left>\n",
    "<img src=\"https://cdn.pixabay.com/photo/2018/01/04/16/53/building-3061124_960_720.png\" width=30 align=left><div class=\"alert alert-block alert-danger\"><b>Ex2.1</b> Dans l'exemple ci-dessous, modifiez la valeur de `a` afin d'obtenir un type `float`. </div>\n"
   ]
  },
  {
   "cell_type": "code",
   "execution_count": null,
   "metadata": {},
   "outputs": [],
   "source": [
    "a = 12\n",
    "print(type(a))"
   ]
  },
  {
   "cell_type": "markdown",
   "metadata": {},
   "source": [
    "<img src=\"https://cdn.pixabay.com/photo/2018/01/04/16/53/building-3061124_960_720.png\" width=30 align=left><div class=\"alert alert-block alert-danger\">**Ex2.2** Faites de même afin d'obtenir un type `str` contenant `aujourd'hui`.</div>"
   ]
  },
  {
   "cell_type": "code",
   "execution_count": null,
   "metadata": {},
   "outputs": [],
   "source": []
  },
  {
   "cell_type": "markdown",
   "metadata": {},
   "source": [
    "<img src=\"https://cdn.pixabay.com/photo/2018/01/04/16/53/building-3061124_960_720.png\" width=30 align=left><div class=\"alert alert-block alert-danger\">**Ex2.3** Faites de même afin d'obtenir un type `bool`.</div>"
   ]
  },
  {
   "cell_type": "code",
   "execution_count": null,
   "metadata": {},
   "outputs": [],
   "source": []
  },
  {
   "cell_type": "markdown",
   "metadata": {},
   "source": [
    "<img src=\"https://cdn.pixabay.com/photo/2018/01/04/16/53/building-3061124_960_720.png\" width=30 align=left><div class=\"alert alert-block alert-danger\">**Ex2.4** Faites de même afin d'obtenir un type `list`.</div>"
   ]
  },
  {
   "cell_type": "code",
   "execution_count": null,
   "metadata": {},
   "outputs": [],
   "source": []
  },
  {
   "cell_type": "markdown",
   "metadata": {},
   "source": [
    "Pour les autres types, nous verrons ultérieurement comment procéder."
   ]
  },
  {
   "cell_type": "markdown",
   "metadata": {},
   "source": [
    "## Opérateurs numériques\n",
    "Les opérateurs permettent de réaliser des opérations sur les valeurs/objets.  \n",
    "Les **opérateurs numériques** usuels sont : `+ - * / // % **`  \n",
    "Leur comportement dépend des valeurs et objets auxquels ils sont associés."
   ]
  },
  {
   "cell_type": "markdown",
   "metadata": {},
   "source": [
    "### Exercices 3 - opérateurs standards<img src=\"https://cdn.pixabay.com/photo/2018/01/04/16/53/building-3061124_960_720.png\" width=50 align=left>  \n",
    "  \n",
    "  \n",
    "<img src=\"https://cdn.pixabay.com/photo/2018/01/04/16/53/building-3061124_960_720.png\" width=30 align=left>  <div class=\"alert alert-block alert-danger\">**Ex3.1 - `+` entre `int`**  \n",
    "Utilisez l'opérateur `+` entre deux `int` et affichez le type du résultat obtenu.</div>"
   ]
  },
  {
   "cell_type": "code",
   "execution_count": null,
   "metadata": {},
   "outputs": [],
   "source": [
    "a=5+2\n",
    "type(a)"
   ]
  },
  {
   "cell_type": "markdown",
   "metadata": {},
   "source": [
    "<img src=\"https://cdn.pixabay.com/photo/2018/01/04/16/53/building-3061124_960_720.png\" width=30 align=left>  <div class=\"alert alert-block alert-danger\">**Ex3.2 - `+` entre `float` et `int`**  \n",
    "Utilisez l'opérateur `+` entre un `float`et un `int` et affichez le résultat obtenu, et son type.</div>"
   ]
  },
  {
   "cell_type": "code",
   "execution_count": null,
   "metadata": {
    "scrolled": true
   },
   "outputs": [],
   "source": [
    "a=5.2+2\n",
    "print(a,type(a))"
   ]
  },
  {
   "cell_type": "markdown",
   "metadata": {},
   "source": [
    "<img src=\"https://cdn.pixabay.com/photo/2016/10/18/19/40/anatomy-1751201_960_720.png\" width=\"30\" align=left><div class=\"alert alert-block alert-info\">**IMPORTANT** : lorsqu'on utilise des opérateurs, il existe un mécanisme de conversion implicite qui..</div>"
   ]
  },
  {
   "cell_type": "markdown",
   "metadata": {},
   "source": [
    "<img src=\"https://cdn.pixabay.com/photo/2018/01/04/16/53/building-3061124_960_720.png\" width=30 align=left><div class=\"alert alert-block alert-danger\">**Ex3.3 - `+` entre `str`**  \n",
    "Utilisez l'opérateur `+` entre deux `str` et affichez le résultat obtenu, et son type.</div>"
   ]
  },
  {
   "cell_type": "code",
   "execution_count": null,
   "metadata": {},
   "outputs": [],
   "source": [
    "a='bo'+'dega'\n",
    "print(a,type(a))"
   ]
  },
  {
   "cell_type": "markdown",
   "metadata": {},
   "source": [
    "<img src=\"https://cdn.pixabay.com/photo/2018/01/04/16/53/building-3061124_960_720.png\" width=30 align=left><div class=\"alert alert-block alert-danger\">**Ex3.4 - `+` entre `str` et`int`**  \n",
    "Utilisez l'opérateur `+` entre un `str`et un `int` et affichez le résultat obtenu, et son type.</div>"
   ]
  },
  {
   "cell_type": "code",
   "execution_count": null,
   "metadata": {},
   "outputs": [],
   "source": [
    "a=\"ff\"+2\n",
    "print(a,type(a))"
   ]
  },
  {
   "cell_type": "markdown",
   "metadata": {},
   "source": [
    "<img src=\"https://cdn.pixabay.com/photo/2016/10/18/19/40/anatomy-1751201_960_720.png\" width=\"30\" align=left><div class=\"alert alert-block alert-info\">**IMPORTANT** : Pour l'opérateur `+`, nous pouvons en conclure que...</div>"
   ]
  },
  {
   "cell_type": "markdown",
   "metadata": {},
   "source": [
    "<img src=\"https://cdn.pixabay.com/photo/2018/01/04/16/53/building-3061124_960_720.png\" width=30 align=left><div class=\"alert alert-block alert-danger\">**Ex3.5 - `*` entre`str` et `int`**  \n",
    "Utilisez maintenant l'opérateur `*` entre un `str`et un `int` et affichez le résultat obtenu, et son type.</div>"
   ]
  },
  {
   "cell_type": "code",
   "execution_count": null,
   "metadata": {},
   "outputs": [],
   "source": [
    "a = 8 * 'bob'\n",
    "print(a,type(a))"
   ]
  },
  {
   "cell_type": "markdown",
   "metadata": {},
   "source": [
    "<img src=\"https://cdn.pixabay.com/photo/2018/01/04/16/53/building-3061124_960_720.png\" width=30 align=left><div class=\"alert alert-block alert-danger\">**Ex3.6 - Que font `/` et `//` ?**  \n",
    "Essayez de distinguer les comportements de `/` et `//` :\n",
    " * quelles opérations réalisent-ils ?\n",
    " * à quel(s) type(s) peuvent-ils être associés?\n",
    " </div>"
   ]
  },
  {
   "cell_type": "code",
   "execution_count": null,
   "metadata": {},
   "outputs": [],
   "source": []
  },
  {
   "cell_type": "markdown",
   "metadata": {},
   "source": [
    "<img src=\"https://cdn.pixabay.com/photo/2016/10/18/19/40/anatomy-1751201_960_720.png\" width=\"30\" align=left> <div class=\"alert alert-block alert-info\">**IMPORTANT** : les opérateurs `/` et `//` réalisent respectivement des opérations de...  \n",
    "    \n",
    "Ils s'appliquent aux valeurs de type...</div>"
   ]
  },
  {
   "cell_type": "markdown",
   "metadata": {},
   "source": [
    "<img src=\"https://cdn.pixabay.com/photo/2018/01/04/16/53/building-3061124_960_720.png\" width=30 align=left><div class=\"alert alert-block alert-danger\">**Ex3.7 - Que fait l'opérateur \\*\\* ?**</div>"
   ]
  },
  {
   "cell_type": "code",
   "execution_count": null,
   "metadata": {},
   "outputs": [],
   "source": []
  },
  {
   "cell_type": "markdown",
   "metadata": {},
   "source": [
    "<img src=\"https://cdn.pixabay.com/photo/2016/10/18/19/40/anatomy-1751201_960_720.png\" width=\"30\" align=left><div class=\"alert alert-block alert-info\">**IMPORTANT** : l'opérateur `**` permet de...</div>"
   ]
  },
  {
   "cell_type": "markdown",
   "metadata": {},
   "source": [
    "### Exercice 4 - modulo <img src=\"https://cdn.pixabay.com/photo/2018/01/04/16/53/building-3061124_960_720.png\" width=50 align=left>\n",
    "L'**opérateur modulo %** permet d'obtenir le reste de la division entière.  \n",
    "\n",
    "<img src=\"https://cdn.pixabay.com/photo/2018/01/04/16/53/building-3061124_960_720.png\" width=30 align=left><div class=\"alert alert-block alert-danger\">**Ex4.0 - Pair ?**  \n",
    "Quel calcul effectuer afin de savoir si `n` est pair ?</div>"
   ]
  },
  {
   "cell_type": "code",
   "execution_count": null,
   "metadata": {},
   "outputs": [],
   "source": [
    "n = 35"
   ]
  },
  {
   "cell_type": "markdown",
   "metadata": {},
   "source": [
    "<img src=\"https://cdn.pixabay.com/photo/2018/01/04/16/53/building-3061124_960_720.png\" width=30 align=left><div class=\"alert alert-block alert-danger\">**Ex4.1 - Multiple de ?**  \n",
    "8751212 est-il un multiple de 3 ?</div>"
   ]
  },
  {
   "cell_type": "code",
   "execution_count": null,
   "metadata": {},
   "outputs": [],
   "source": []
  },
  {
   "cell_type": "markdown",
   "metadata": {},
   "source": [
    "<img src=\"https://cdn.pixabay.com/photo/2018/01/04/16/53/building-3061124_960_720.png\" width=30 align=left><div class=\"alert alert-block alert-danger\">**Ex4.2 - Modulogâteau** 🍰🍰🍰🍰🍰  \n",
    "20 parts de gâteaux, 7 invité.e.s, combien de parts de gâteau chacun.e et combien de parts restantes ?</div>"
   ]
  },
  {
   "cell_type": "code",
   "execution_count": null,
   "metadata": {
    "scrolled": true
   },
   "outputs": [],
   "source": []
  },
  {
   "cell_type": "markdown",
   "metadata": {},
   "source": [
    "## Opérateurs d'affectation\n",
    "Les **opérateurs d'affectation** sont : `= += -+ *+ /= //* %=`.  \n",
    "\n",
    "Le `=` permet évidemment d'associer une valeur/objet à un identificateur.  \n",
    "Les autres opérateurs d'affectation sont en fait du sucre syntaxique: ils ne sont pas indispensables mais simplifient les écritures.\n",
    "\n",
    "### Exercice 5 - Modifier une valeur<img src=\"https://cdn.pixabay.com/photo/2018/01/04/16/53/building-3061124_960_720.png\" width=50 align=left>  \n",
    "<img src=\"https://cdn.pixabay.com/photo/2018/01/04/16/53/building-3061124_960_720.png\" width=30 align=left><div class=\"alert alert-block alert-danger\">**Ex5.1 - La classique**  \n",
    "Dans le code suivant, en utilisant les opérateurs standards `-` et `/`, effectuez des opérations diminuant `a`de 4 puis réduisant de moitié sa valeur.  </div>"
   ]
  },
  {
   "cell_type": "code",
   "execution_count": null,
   "metadata": {},
   "outputs": [],
   "source": [
    "a = 18"
   ]
  },
  {
   "cell_type": "markdown",
   "metadata": {},
   "source": [
    "<img src=\"https://cdn.pixabay.com/photo/2018/01/04/16/53/building-3061124_960_720.png\" width=30 align=left><div class=\"alert alert-block alert-danger\">**Ex5.2 - La sucre syntaxique**   \n",
    "Effectuez les mêmes opérations en utilisant les opérateurs `-=` et `/=`.</div>"
   ]
  },
  {
   "cell_type": "code",
   "execution_count": null,
   "metadata": {},
   "outputs": [],
   "source": [
    "a = 18"
   ]
  },
  {
   "cell_type": "markdown",
   "metadata": {},
   "source": [
    "<img src=\"https://cdn.pixabay.com/photo/2018/01/04/16/53/building-3061124_960_720.png\" width=30 align=left><div class=\"alert alert-block alert-danger\">**Ex5.3 - La jambon-oeuf-fromage**   \n",
    "Pouvez-vous réaliser le même calcul en une seule ligne, avec un seul des opérateurs d'affectation ?</div>"
   ]
  },
  {
   "cell_type": "code",
   "execution_count": null,
   "metadata": {},
   "outputs": [],
   "source": [
    "a = 18"
   ]
  },
  {
   "cell_type": "markdown",
   "metadata": {},
   "source": [
    "<img src=\"https://cdn.pixabay.com/photo/2016/10/18/19/40/anatomy-1751201_960_720.png\" width=\"30\" align=left><div class=\"alert alert-block alert-info\">**IMPORTANT :**  l'opérateur `+=` permet de remplacer...</div>"
   ]
  },
  {
   "cell_type": "markdown",
   "metadata": {},
   "source": [
    "## Opérateurs de comparaison et opérateurs logiques\n",
    "Les **opérateurs de comparaison** sont : `==, <, <=, >=, >, !=`.  \n",
    "\n",
    "Associés à des **expressions** (comme `2*a+1` ou ` 5.2`), ils permettent d'obtenir **une valeur de vérité** (vrai ou faux). Par exemple:"
   ]
  },
  {
   "cell_type": "code",
   "execution_count": null,
   "metadata": {},
   "outputs": [],
   "source": [
    "a=18\n",
    "print(a==12)"
   ]
  },
  {
   "cell_type": "markdown",
   "metadata": {},
   "source": [
    "Les **opérateurs logiques** usuels sont `and, or, not`.  \n",
    "Ils permettent d'associer une ou plusieurs valeurs de vérité et d'obtenir une valeur de vérité.  \n",
    "Par exemple:"
   ]
  },
  {
   "cell_type": "code",
   "execution_count": null,
   "metadata": {},
   "outputs": [],
   "source": [
    "a = 18\n",
    "b = 12\n",
    "print(a>=18 and b!=5)"
   ]
  },
  {
   "cell_type": "markdown",
   "metadata": {},
   "source": [
    "### Exercice 6 - Quête de vérité\n",
    "<img src=\"https://cdn.pixabay.com/photo/2018/01/04/16/53/building-3061124_960_720.png\" width=50 align=left> \n",
    "<img src=\"https://cdn.pixabay.com/photo/2018/01/04/16/53/building-3061124_960_720.png\" width=30 align=left><div class=\"alert alert-block alert-danger\">**Ex6.1 - Minority report**  \n",
    "Ecrivez une expression utilisant opérateurs de comparaison et/ou opérateurs logiques, et permettant d'afficher si `bob` est mineur (`True`) ou majeur (`False`). **Attention**, votre programme doit renvoyer `False` en cas de valeur négative.</div>"
   ]
  },
  {
   "cell_type": "code",
   "execution_count": null,
   "metadata": {},
   "outputs": [],
   "source": [
    "bob = 17"
   ]
  },
  {
   "cell_type": "markdown",
   "metadata": {},
   "source": [
    "<img src=\"https://cdn.pixabay.com/photo/2018/01/04/16/53/building-3061124_960_720.png\" width=30 align=left><div class=\"alert alert-block alert-danger\">**Ex6.2 - Minority report 2**  \n",
    "Même exercice, mais vous n'avez le droit d'utiliser que des opérateurs de comparaison.</div>"
   ]
  },
  {
   "cell_type": "code",
   "execution_count": null,
   "metadata": {},
   "outputs": [],
   "source": []
  },
  {
   "cell_type": "markdown",
   "metadata": {},
   "source": [
    "<img src=\"https://cdn.pixabay.com/photo/2016/10/18/19/40/anatomy-1751201_960_720.png\" width=\"30\" align=left> <div class=\"alert alert-block alert-info\">IMPORTANT : en python, on peut écrire égalités, des inégalités, mais également des...</div>"
   ]
  },
  {
   "cell_type": "markdown",
   "metadata": {},
   "source": [
    "<img src=\"https://cdn.pixabay.com/photo/2018/01/04/16/53/building-3061124_960_720.png\" width=30 align=left><div class=\"alert alert-block alert-danger\">**Ex6.3 - Chiffre pair**  \n",
    "Ecrivez une expression permettant d'afficher si `n` est bien un chiffre pair.  \n",
    "Exemple: 12 est pair mais n'est pas un chiffre donc `False` , 3 est un chiffre impair donc `False` </div>"
   ]
  },
  {
   "cell_type": "code",
   "execution_count": null,
   "metadata": {},
   "outputs": [],
   "source": [
    "n = 12"
   ]
  },
  {
   "cell_type": "markdown",
   "metadata": {},
   "source": [
    "<img src=\"https://cdn.pixabay.com/photo/2018/01/04/16/53/building-3061124_960_720.png\" width=30 align=left><div class=\"alert alert-block alert-danger\">**Ex6.4 - Même signe**  \n",
    "Ecrivez une expression permettant d'afficher si `n` et `m` sont bien de même signe.</div>"
   ]
  },
  {
   "cell_type": "code",
   "execution_count": null,
   "metadata": {},
   "outputs": [],
   "source": [
    "n = 12\n",
    "m = -2"
   ]
  },
  {
   "cell_type": "markdown",
   "metadata": {},
   "source": [
    "<img src=\"https://cdn.pixabay.com/photo/2018/01/04/16/53/building-3061124_960_720.png\" width=30 align=left><div class=\"alert alert-block alert-danger\">**Ex6.5 - Table de vérité du OU**  \n",
    "Affichez la table de vérité (toutes les possibilités d'association de booléens) de l'opérateur OU.</div>"
   ]
  },
  {
   "cell_type": "code",
   "execution_count": null,
   "metadata": {},
   "outputs": [],
   "source": [
    "print(True,\"or\",True,\"=\",True or True)\n",
    "print(True,\"or\",False,\"=\",True or False)\n",
    "print(False,\"or\",True,\"=\",False or True)\n",
    "print(False,\"or\",False,\"=\",False or False)"
   ]
  },
  {
   "cell_type": "markdown",
   "metadata": {},
   "source": [
    "<img src=\"https://cdn.pixabay.com/photo/2021/04/13/09/50/road-6175186_960_720.jpg\" width=350><div class=\"alert alert-block alert-info\">\n",
    "## __BILAN__\n",
    "En python, les **identifiants** doivent respecter...  \n",
    "La **valeur/objet** associée à un identifiant détermine...  \n",
    "Les **opérateurs** se comportent différemment selon...  \n",
    "Les principaux **opérateurs numériques** sont...  \n",
    "Parmi ces opérateurs numériques, certains sont un peu particuliers:\n",
    " * `//` qui...\n",
    " * `%` qui...\n",
    " * `**` qui...  \n",
    " \n",
    "Les **opérateurs d'affectation** sont...  \n",
    "Les **opérateurs de comparaison** sont...  \n",
    "Les **opérateurs logiques** sont...\n",
    "</div>"
   ]
  }
 ],
 "metadata": {
  "kernelspec": {
   "display_name": "Python 3",
   "language": "python",
   "name": "python3"
  },
  "language_info": {
   "codemirror_mode": {
    "name": "ipython",
    "version": 3
   },
   "file_extension": ".py",
   "mimetype": "text/x-python",
   "name": "python",
   "nbconvert_exporter": "python",
   "pygments_lexer": "ipython3",
   "version": "3.8.10"
  }
 },
 "nbformat": 4,
 "nbformat_minor": 2
}
