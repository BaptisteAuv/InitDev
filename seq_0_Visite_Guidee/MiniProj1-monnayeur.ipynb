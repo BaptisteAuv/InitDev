{
 "cells": [
  {
   "cell_type": "markdown",
   "metadata": {},
   "source": [
    "# Séquence 1 - Le monnayeur <img src=\"https://cdn.pixabay.com/photo/2015/06/15/20/21/register-810546_960_720.jpg\" width=350 align=right>\n",
    "L'objectif de cette séquence de travail est d'aboutir à la création d'un monnayeur, capable de connaître l'état d'une caisse (dans un magasin, par exemple) et de rendre la monnaie lors d'un paiement.\n",
    "Pour ce faire, nous allons suivre un cheminement progressif qui nous permettra d'aboutir à un programme efficace.  \n",
    "## Exercice 1 - Remplir la caisse et afficher son contenu\n",
    "Créez une liste `unites`qui contient la liste de toutes les unités de monnaie (euros et centimes d'euro) : 500, 200, 100,... 0.10, 0.05, 0.02, 0.01\n",
    "\n",
    "**AIDE** : pour cette étape, vous devez savoir manipuler les listes. Si vous n'êtes pas à l'aise avec les listes, prenez le temps de lire la **fiche 2 - listes**.  "
   ]
  },
  {
   "cell_type": "code",
   "execution_count": null,
   "metadata": {},
   "outputs": [],
   "source": []
  },
  {
   "cell_type": "markdown",
   "metadata": {},
   "source": [
    "Nous souhaitons maintenant afficher touts les unités. Vous allez utiliser `for`. \n",
    "\n",
    "**AIDE** : si vous n'êtes pas à l'aise avec cette instruction, allez consulter la **\"fiche 3 - for\"**."
   ]
  },
  {
   "cell_type": "code",
   "execution_count": null,
   "metadata": {},
   "outputs": [],
   "source": []
  },
  {
   "cell_type": "markdown",
   "metadata": {},
   "source": [
    "Créez maintenant une liste `caisse`qui, pour chacune de ces unités, indique leur effectif dans la caisse: 0 billets de 500€, 3 billets de 200€, ..."
   ]
  },
  {
   "cell_type": "code",
   "execution_count": null,
   "metadata": {},
   "outputs": [],
   "source": []
  },
  {
   "cell_type": "markdown",
   "metadata": {},
   "source": [
    "Plus compliqué, vous devez maintenant afficher le contenu de la caisse en indiquant le nombre de chaque unité. \n",
    "\n",
    "__*Exemple*__  \n",
    "`0 billets de 500€`  \n",
    "`3 billets de 200€`  \n",
    "...\n",
    "\n",
    "**AIDE** : pour ce faire, vous aurez besoin d'utiliser `range` (consultez la **\"fiche 4 range\"** si nécessaire)."
   ]
  },
  {
   "cell_type": "code",
   "execution_count": null,
   "metadata": {},
   "outputs": [],
   "source": []
  },
  {
   "cell_type": "markdown",
   "metadata": {},
   "source": [
    "Peut-on améliorer notre algorithme et n'afficher que les unités qui sont vraiment dans la caisse?  \n",
    "S'il n'y a pas de billets de 500€, il est inutile d'afficher `0 billets de 500€`, non?  \n",
    "Pour réaliser cela, vous aurez besoin du `if`, dont le fonctionnement est expliqué dans la **\"fiche 1 - if elif else\"**."
   ]
  },
  {
   "cell_type": "code",
   "execution_count": null,
   "metadata": {},
   "outputs": [],
   "source": []
  },
  {
   "cell_type": "markdown",
   "metadata": {},
   "source": [
    "Il serait utile d'afficher également, après cette liste des unités, le montant total contenu dans la caisse..."
   ]
  },
  {
   "cell_type": "code",
   "execution_count": null,
   "metadata": {},
   "outputs": [],
   "source": []
  },
  {
   "cell_type": "markdown",
   "metadata": {},
   "source": [
    "## Exercice 2 - Modifier le contenu de la caisse\n",
    "Vous allez demander à l'utilisateur de taper une des unités de monnaie possible (500? 200? 100? ...0.02? 0.01?) et augmenter le montant de la caisse de cette unité. Affichez avant et après le contenu et le total de la caisse afin de vérifier.\n",
    "\n",
    "__*Exemple*__  \n",
    "*Avant: la caisse contient 502.46€*  \n",
    "`Quelle unité souhaitez-vous ajouter?`  \n",
    "`20`  \n",
    "*Après: la caisse contient 522.46€*"
   ]
  },
  {
   "cell_type": "code",
   "execution_count": null,
   "metadata": {},
   "outputs": [],
   "source": []
  },
  {
   "cell_type": "markdown",
   "metadata": {},
   "source": [
    "Êtes-vous capable de modifier votre programme afin que, dans le cas d'une saisie d'unité incorrecte :\n",
    " * un affichage adéquat soit produit\n",
    " * on se rende compte du problème avant la fin du tableau, et on interrompe la boucle immédiatement plutôt que de visiter inutilement tout le tableau\n",
    "\n",
    "**AIDE**: il y a plusieurs façon de faire, mais vous pourriez avoir besoin des booléens (voir **\"fiche 0 - types primaires\"**) et du `break`(voir **\"fiche 3 - for\"**)."
   ]
  },
  {
   "cell_type": "code",
   "execution_count": null,
   "metadata": {},
   "outputs": [],
   "source": []
  },
  {
   "cell_type": "markdown",
   "metadata": {},
   "source": [
    "Nous souhaitons maintenant que l'utilisateur tape un montant, plutôt qu'une simple unité.\n",
    "\n",
    "__*Exemple*__  \n",
    "*Avant: la caisse contient 502.46€*  \n",
    "`Quel montant souhaitez-vous ajouter?`  \n",
    "`12.85€`  \n",
    "*Après: la caisse contient 515.31€*\n",
    "\n",
    "**AIDE** : ici, vous aurez certainement besoin du `while` (allez consulter la **\"fiche 5 - while\"**) et/ou du modulo (**\"fiche 6 - modulo\"**)"
   ]
  },
  {
   "cell_type": "code",
   "execution_count": null,
   "metadata": {},
   "outputs": [],
   "source": []
  }
 ],
 "metadata": {
  "kernelspec": {
   "display_name": "Python 3",
   "language": "python",
   "name": "python3"
  },
  "language_info": {
   "codemirror_mode": {
    "name": "ipython",
    "version": 3
   },
   "file_extension": ".py",
   "mimetype": "text/x-python",
   "name": "python",
   "nbconvert_exporter": "python",
   "pygments_lexer": "ipython3",
   "version": "3.8.10"
  }
 },
 "nbformat": 4,
 "nbformat_minor": 5
}
