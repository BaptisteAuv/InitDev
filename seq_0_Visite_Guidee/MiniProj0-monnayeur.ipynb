{
 "cells": [
  {
   "cell_type": "markdown",
   "id": "c39fe07e",
   "metadata": {},
   "source": [
    "# Séquence 0 - Le monnayeur <img src=\"https://cdn.pixabay.com/photo/2015/06/15/20/21/register-810546_960_720.jpg\" width=350 align=right>\n",
    "L'objectif de cette séquence de travail est d'aboutir à la création d'un monnayeur, capable de connaître l'état d'une caisse (dans un magasin, par exemple) et de rendre la monnaie lors d'un paiement.\n",
    "Pour ce faire, nous allons suivre un cheminement progressif qui nous permettra d'aboutir à un programme efficace et propre.  \n",
    "## Exercice 1 - Remplir la caisse et afficher son contenu\n",
    "Créez une liste `unites`qui contient la liste de toutes les unités de monnaie (euros et centimes d'euro) : 500, 200, 100,... 0.10, 0.05, 0.02, 0.01\n",
    "\n",
    "**AIDE** : pour cette étape, vous devez savoir manipuler les listes. Si vous n'êtes pas à l'aise avec les listes, prenez le temps de lire la **fiche 2 - listes**.  "
   ]
  },
  {
   "cell_type": "code",
   "execution_count": null,
   "id": "0e7fa3e4",
   "metadata": {},
   "outputs": [],
   "source": []
  },
  {
   "cell_type": "markdown",
   "id": "8e06dc2e",
   "metadata": {},
   "source": [
    "Nous souhaitons maintenant afficher touts les unités. Vous allez utiliser `for`. \n",
    "\n",
    "**AIDE** : si vous n'êtes pas à l'aise avec cette instruction, allez consulter la **\"fiche 3 - for range\"**."
   ]
  },
  {
   "cell_type": "code",
   "execution_count": null,
   "id": "e440f986",
   "metadata": {},
   "outputs": [],
   "source": []
  },
  {
   "cell_type": "markdown",
   "id": "3e385b59",
   "metadata": {},
   "source": [
    "Créez maintenant une liste `caisse`qui, pour chacune de ces unités, indique leur effectif dans la caisse: 0 billets de 500€, 3 billets de 200€, ...  \n",
    "\n",
    "Saisissez les effectifs de votre choix, ça n'est pas tous les jours qu'on remplit son compte en banque à sa guise."
   ]
  },
  {
   "cell_type": "code",
   "execution_count": null,
   "id": "7cb3d9d1",
   "metadata": {},
   "outputs": [],
   "source": []
  },
  {
   "cell_type": "markdown",
   "id": "9a20963e",
   "metadata": {},
   "source": [
    "Plus compliqué, vous devez maintenant afficher le contenu de la caisse en indiquant le nombre de chaque unité. \n",
    "\n",
    "__*Exemple*__  \n",
    "`0 billets de 500€`  \n",
    "`3 billets de 200€`  \n",
    "...\n",
    "\n",
    "**AIDE** : pour ce faire, vous aurez besoin d'utiliser `range` (consultez la **\"fiche 3 for range\"** si nécessaire)."
   ]
  },
  {
   "cell_type": "code",
   "execution_count": null,
   "id": "5c44e58f",
   "metadata": {},
   "outputs": [],
   "source": []
  },
  {
   "cell_type": "markdown",
   "id": "2498e54a",
   "metadata": {},
   "source": [
    "Peut-on améliorer notre algorithme et n'afficher que les unités qui sont vraiment dans la caisse?  \n",
    "S'il n'y a pas de billets de 500€, il est inutile d'afficher `0 billets de 500€`, non?  \n",
    "Pour réaliser cela, vous aurez besoin du `if`, dont le fonctionnement est expliqué dans la **\"fiche 1 - if elif else\"**.  \n",
    "\n",
    "Ce serait également joli de gérer le singulier et le pluriel: `1 billet de 500€` et `2 billets de 500€`."
   ]
  },
  {
   "cell_type": "code",
   "execution_count": null,
   "id": "54da2a56",
   "metadata": {},
   "outputs": [],
   "source": []
  },
  {
   "cell_type": "markdown",
   "id": "abe81330",
   "metadata": {},
   "source": [
    "Il serait utile d'afficher également, après cette liste des unités, le montant total contenu dans la caisse..."
   ]
  },
  {
   "cell_type": "code",
   "execution_count": null,
   "id": "db454207",
   "metadata": {},
   "outputs": [],
   "source": []
  },
  {
   "cell_type": "markdown",
   "id": "bd3bacac",
   "metadata": {},
   "source": [
    "## Exercice 2 - Augmenter le contenu de la caisse\n",
    "Vous allez demander à l'utilisateur de taper une des unités de monnaie possible (500? 200? 100? ...0.02? 0.01?) et augmenter le montant de la caisse de cette unité. Affichez avant et après le contenu et le total de la caisse afin de vérifier.\n",
    "\n",
    "__*Exemple*__  \n",
    "*Avant: la caisse contient 502.46€*  \n",
    "`Quelle unité souhaitez-vous ajouter?`  \n",
    "`20`  \n",
    "*Après: la caisse contient 522.46€*"
   ]
  },
  {
   "cell_type": "code",
   "execution_count": null,
   "id": "b78569c8",
   "metadata": {},
   "outputs": [],
   "source": []
  },
  {
   "cell_type": "markdown",
   "id": "2ffca829",
   "metadata": {},
   "source": [
    "Êtes-vous capable de modifier votre programme afin que, dans le cas d'une saisie d'unité incorrecte :\n",
    " * un affichage adéquat soit produit\n",
    " * on se rende compte du problème avant la fin du tableau, et on interrompe la boucle immédiatement plutôt que de visiter inutilement tout le tableau\n",
    "\n",
    "**AIDE**: il y a plusieurs façon de faire, mais vous pourriez avoir besoin des booléens (voir **\"fiche 0 - visite guidée\"**) et du `break`(voir **\"fiche 3 - range for\"**)."
   ]
  },
  {
   "cell_type": "code",
   "execution_count": null,
   "id": "0d41bb42",
   "metadata": {},
   "outputs": [],
   "source": []
  },
  {
   "cell_type": "markdown",
   "id": "950bf505",
   "metadata": {},
   "source": [
    "Nous souhaitons maintenant que l'utilisateur tape un montant, plutôt qu'une simple unité.\n",
    "\n",
    "__*Exemple*__  \n",
    "*Avant: la caisse contient 502.46€*  \n",
    "`Quel montant souhaitez-vous ajouter?`  \n",
    "`12.85€`  \n",
    "*Après: la caisse contient 515.31€*\n",
    "\n",
    "**AIDE** : ici, vous aurez certainement besoin du `while` (allez consulter la **\"fiche 1 - io if while\"**) et/ou du modulo (**\"fiche 0 - visite guidée\"**)"
   ]
  },
  {
   "cell_type": "code",
   "execution_count": null,
   "id": "5601a9c5",
   "metadata": {},
   "outputs": [],
   "source": []
  },
  {
   "cell_type": "markdown",
   "id": "ae1572b4",
   "metadata": {},
   "source": [
    "## Exercice 3 - Diminuer le contenu de la caisse\n",
    "On va maintenant demander à l'utilisateur de taper un montant à **retirer** de la caisse.  \n",
    "**ATTENTION**, il est possible que retirer un montant donné soit impossible:\n",
    " * la caisse ne contient pas suffisamment de liquidités\n",
    " * la caisse ne contient pas les unités permettant le retrait. Exemple avec une caisse contenant uniquement un billet de 100€ dans laquelle on doit retirer 10€.\n",
    "\n",
    "Vous devez donc vous assurer que le retrait est possible et afficher un refus motivé dans le cas contraire."
   ]
  },
  {
   "cell_type": "code",
   "execution_count": null,
   "id": "2e0b23ae",
   "metadata": {},
   "outputs": [],
   "source": []
  },
  {
   "cell_type": "markdown",
   "id": "074cc6bc",
   "metadata": {},
   "source": [
    "## Exercice 4 - Un beau menu\n",
    "Ce serait chouette de reprendre tout les algorithmes écrits précédemment, et de les proposer dans un menu.  \n",
    "Quelque chose comme:```.  \n",
    " 1 - voir le total de la caisse\n",
    " 2 - voir le contenu de la caisse\n",
    " 3 - ajouter un montant\n",
    " 4 - retirer un montant\n",
    " 5 - quitter```"
   ]
  },
  {
   "cell_type": "code",
   "execution_count": null,
   "id": "c9d1024c",
   "metadata": {},
   "outputs": [],
   "source": []
  }
 ],
 "metadata": {
  "kernelspec": {
   "display_name": "Python 3",
   "language": "python",
   "name": "python3"
  },
  "language_info": {
   "codemirror_mode": {
    "name": "ipython",
    "version": 3
   },
   "file_extension": ".py",
   "mimetype": "text/x-python",
   "name": "python",
   "nbconvert_exporter": "python",
   "pygments_lexer": "ipython3",
   "version": "3.8.10"
  }
 },
 "nbformat": 4,
 "nbformat_minor": 5
}
