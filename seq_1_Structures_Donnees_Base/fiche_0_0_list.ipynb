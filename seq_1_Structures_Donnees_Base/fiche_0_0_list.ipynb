{
  "nbformat": 4,
  "nbformat_minor": 0,
  "metadata": {
    "colab": {
      "name": "fiche_0_0_list.ipynb",
      "provenance": [],
      "collapsed_sections": []
    },
    "kernelspec": {
      "name": "python3",
      "display_name": "Python 3"
    },
    "language_info": {
      "name": "python"
    }
  },
  "cells": [
    {
      "cell_type": "code",
      "metadata": {
        "id": "vA_WUxl6JQpq"
      },
      "source": [
        ""
      ],
      "execution_count": 1,
      "outputs": []
    },
    {
      "cell_type": "markdown",
      "metadata": {
        "id": "eFnhtyduJttz"
      },
      "source": [
        "# Le type `list`et ses méthodes"
      ]
    },
    {
      "cell_type": "markdown",
      "metadata": {
        "id": "zyj2Nl7_Khb4"
      },
      "source": [
        "## Les types conteneurs"
      ]
    },
    {
      "cell_type": "markdown",
      "metadata": {
        "id": "_HqVSAZHKhb6"
      },
      "source": [
        "Le type *list* est un **type conteneur**, c'est-à-dire que les objets de type *list* contiennent d'autres objets.\n",
        "En fait, ils ne \"contiennent\" pas vraiment ces objets mais contiennent des **références** à ces objets.\n",
        "Les objets contenus dans une liste peuvent être de tout type."
      ]
    },
    {
      "cell_type": "code",
      "metadata": {
        "id": "id-A-eJlKhb7"
      },
      "source": [
        "l1 = [3,-2.1, 'hello']"
      ],
      "execution_count": null,
      "outputs": []
    },
    {
      "cell_type": "markdown",
      "metadata": {
        "id": "BtzKVotwKhb8"
      },
      "source": [
        "Le type **str** ou chaîne de caractère est également un type conteneur."
      ]
    },
    {
      "cell_type": "code",
      "metadata": {
        "id": "MXhoGmkQKhb8"
      },
      "source": [
        "s1 = \"carambar\""
      ],
      "execution_count": 5,
      "outputs": []
    },
    {
      "cell_type": "markdown",
      "metadata": {
        "id": "zURTOqEQKhb9"
      },
      "source": [
        "D'autres types conteneurs qui seront vu plus en détails plus tard sont:"
      ]
    },
    {
      "cell_type": "code",
      "metadata": {
        "id": "s8UgeOUXKhb9",
        "outputId": "a045d176-c22a-4e2d-a6d8-5e054f98073c"
      },
      "source": [
        "#les n-uplets ou tuple, notez les parenthèses et que c'est le même type répété\n",
        "t1 = (3,4,3)\n",
        "print(type(t1))\n",
        "t2 = ('aa', 'bb', 'ccc')\n",
        "print(type(t1))"
      ],
      "execution_count": null,
      "outputs": [
        {
          "output_type": "stream",
          "text": [
            "<class 'tuple'>\n",
            "<class 'tuple'>\n"
          ],
          "name": "stdout"
        }
      ]
    },
    {
      "cell_type": "code",
      "metadata": {
        "id": "x_7-FbrDKhb-",
        "outputId": "272567ab-50f7-4a69-8303-e7649d9deb0a"
      },
      "source": [
        "#les ensembles ou sets, entre accolades\n",
        "e1 = {3,4,\"hello\"}\n",
        "print(type(e1))"
      ],
      "execution_count": null,
      "outputs": [
        {
          "output_type": "stream",
          "text": [
            "<class 'set'>\n"
          ],
          "name": "stdout"
        }
      ]
    },
    {
      "cell_type": "code",
      "metadata": {
        "id": "4Wn9cZZSKhb_",
        "outputId": "f0c8c7ad-54a0-47e2-8ff0-703bf1de0539"
      },
      "source": [
        "#les dictionnaires, entre accolades on place des paires de clé:valeur\n",
        "d1 = {'attaque':3, 'défense':7, 'mouvement':12}\n",
        "print(type(d1))"
      ],
      "execution_count": null,
      "outputs": [
        {
          "output_type": "stream",
          "text": [
            "<class 'dict'>\n"
          ],
          "name": "stdout"
        }
      ]
    },
    {
      "cell_type": "markdown",
      "metadata": {
        "id": "gwqVV5gDKhcA"
      },
      "source": [
        "## Opérateur \"est élément de\" : *in*\n",
        "Les types conteneurs ont en commun que l'opérateur **in** peut être utilisé pour savoir si un objet conteneur contient une certaine *valeur*."
      ]
    },
    {
      "cell_type": "code",
      "metadata": {
        "id": "sJxE1320KhcA",
        "outputId": "5d305801-3d66-4546-c1e9-5299ba5b120e"
      },
      "source": [
        "'hello' in [1,2,'hello','bye']"
      ],
      "execution_count": null,
      "outputs": [
        {
          "output_type": "execute_result",
          "data": {
            "text/plain": [
              "True"
            ]
          },
          "metadata": {
            "tags": []
          },
          "execution_count": 29
        }
      ]
    },
    {
      "cell_type": "code",
      "metadata": {
        "id": "40xi59IcKhcB",
        "outputId": "67e1e051-727b-4de4-f317-05098f114736"
      },
      "source": [
        "5 in [3,4,8,-1]"
      ],
      "execution_count": null,
      "outputs": [
        {
          "output_type": "execute_result",
          "data": {
            "text/plain": [
              "False"
            ]
          },
          "metadata": {
            "tags": []
          },
          "execution_count": 30
        }
      ]
    },
    {
      "cell_type": "code",
      "metadata": {
        "id": "kt66IzpNKhcB",
        "outputId": "bf034168-755a-4f53-b2bf-51b284e475ae"
      },
      "source": [
        "'b' in 'aaaabcc'"
      ],
      "execution_count": null,
      "outputs": [
        {
          "output_type": "execute_result",
          "data": {
            "text/plain": [
              "True"
            ]
          },
          "metadata": {
            "tags": []
          },
          "execution_count": 28
        }
      ]
    },
    {
      "cell_type": "code",
      "metadata": {
        "id": "tpBEJEVyKhcC",
        "outputId": "c4209479-9bd2-4b0d-ddee-8f85001de1fe"
      },
      "source": [
        "'bb' in ('aa','bb')"
      ],
      "execution_count": null,
      "outputs": [
        {
          "output_type": "execute_result",
          "data": {
            "text/plain": [
              "True"
            ]
          },
          "metadata": {
            "tags": []
          },
          "execution_count": 31
        }
      ]
    },
    {
      "cell_type": "code",
      "metadata": {
        "id": "09Cj8NxKKhcC",
        "outputId": "c14ec463-d798-4089-ae19-ae0b9ab797f8"
      },
      "source": [
        "'lundi' in {'lundi':3,'mardi':4}"
      ],
      "execution_count": null,
      "outputs": [
        {
          "output_type": "execute_result",
          "data": {
            "text/plain": [
              "True"
            ]
          },
          "metadata": {
            "tags": []
          },
          "execution_count": 33
        }
      ]
    },
    {
      "cell_type": "code",
      "metadata": {
        "id": "vWP2re6YKhcC",
        "outputId": "3bc9c0f5-ed39-400e-c524-6af146792263"
      },
      "source": [
        "3 in {'lundi':3,'mardi':4}  # ce sont les clés qui peuvent être cherchées dans un dictionnaire"
      ],
      "execution_count": null,
      "outputs": [
        {
          "output_type": "execute_result",
          "data": {
            "text/plain": [
              "False"
            ]
          },
          "metadata": {
            "tags": []
          },
          "execution_count": 32
        }
      ]
    },
    {
      "cell_type": "markdown",
      "metadata": {
        "id": "zf489gCNKhcD"
      },
      "source": [
        "**Avancé** : un type conteneur doit implémenter la méthode __contains__ et l'opérateur **in** ne fait qu'appeler cette méthode. La ligne ci-dessus peut être aussi écrite"
      ]
    },
    {
      "cell_type": "code",
      "metadata": {
        "id": "1Nagzfb0KhcD",
        "outputId": "0f0d8322-20cf-4ae4-d1b7-5cfcf6542825"
      },
      "source": [
        "{'lundi':3,'mardi':4}.__contains__(7)"
      ],
      "execution_count": null,
      "outputs": [
        {
          "output_type": "execute_result",
          "data": {
            "text/plain": [
              "False"
            ]
          },
          "metadata": {
            "tags": []
          },
          "execution_count": 34
        }
      ]
    },
    {
      "cell_type": "markdown",
      "metadata": {
        "id": "0U9jOWzoKhcE"
      },
      "source": [
        "# Les types séquentiels"
      ]
    },
    {
      "cell_type": "markdown",
      "metadata": {
        "id": "bxuish1GKhcE"
      },
      "source": [
        "Les **séquences** ou types séquentiels sont des types que l'on peut **énumérer** : les éléments sont les uns à la suite des autres.\n",
        "Les types séquentiels natifs principaux sont le type **list** (qui est aussi un type conteneur), les **tuple** que le type **str** ."
      ]
    },
    {
      "cell_type": "markdown",
      "metadata": {
        "id": "6aBqmw60KhcE"
      },
      "source": [
        "Sur un type séquentiel, on peut utiliser la fonction native **len** (longueur) :"
      ]
    },
    {
      "cell_type": "code",
      "metadata": {
        "id": "UfgCZmTPKhcF",
        "outputId": "c8ca079e-4a15-4442-95c1-9db1b6a84bc4"
      },
      "source": [
        "len( [3,5,4,7, 'toto'])"
      ],
      "execution_count": null,
      "outputs": [
        {
          "output_type": "execute_result",
          "data": {
            "text/plain": [
              "5"
            ]
          },
          "metadata": {
            "tags": []
          },
          "execution_count": 44
        }
      ]
    },
    {
      "cell_type": "code",
      "metadata": {
        "id": "BPFDpelhKhcF",
        "outputId": "e9fc0f67-b74d-41b6-9262-00ab5c33d9a6"
      },
      "source": [
        "len('mljqsdoghmdfog')"
      ],
      "execution_count": null,
      "outputs": [
        {
          "output_type": "execute_result",
          "data": {
            "text/plain": [
              "14"
            ]
          },
          "metadata": {
            "tags": []
          },
          "execution_count": 45
        }
      ]
    },
    {
      "cell_type": "code",
      "metadata": {
        "id": "9FTJlHklKhcF",
        "outputId": "c4b1cafc-aba4-4358-b967-b0d9c6a0d419"
      },
      "source": [
        "len((3,3,-1))"
      ],
      "execution_count": null,
      "outputs": [
        {
          "output_type": "execute_result",
          "data": {
            "text/plain": [
              "3"
            ]
          },
          "metadata": {
            "tags": []
          },
          "execution_count": 46
        }
      ]
    },
    {
      "cell_type": "markdown",
      "metadata": {
        "id": "zLJbc4-MQ0ei"
      },
      "source": [
        "\n",
        "## les méthodes du type `list`"
      ]
    },
    {
      "cell_type": "markdown",
      "metadata": {
        "id": "FQdzGKOodf4K"
      },
      "source": [
        "Les **méthodes** sont des instructions qu'un objet peut exécuter. Chaque type d'objet possède ses propres méthodes. La syntaxe pour appeler les méthodes d'un objet est  \n",
        "`nomdelobjet.nomdelamethode(paramètres)`  \n",
        "(les paramètres à fournir dépendent de la méthode choisie)  \n",
        "Par exemple, la méthode **append** permet d'ajouter un élément à la fin d'une liste. Sa syntaxe est  \n",
        "`nomdelaliste.append(element)`"
      ]
    },
    {
      "cell_type": "code",
      "metadata": {
        "id": "SceBrtJRPurj"
      },
      "source": [
        "maliste = ['hibou', 'caillou']\n",
        "maliste.append('chou')"
      ],
      "execution_count": 6,
      "outputs": []
    },
    {
      "cell_type": "markdown",
      "metadata": {
        "id": "zuq2O3m1gSFp"
      },
      "source": [
        "La méthode `append` a ajouté `'chou'` en fin de liste mais ne *renvoie* rien, donc il n'y a pas de sortie affichée."
      ]
    },
    {
      "cell_type": "code",
      "metadata": {
        "colab": {
          "base_uri": "https://localhost:8080/"
        },
        "id": "tM84KxPAgFMc",
        "outputId": "ef4297e2-1d7c-458f-de69-cc288d9d402c"
      },
      "source": [
        "print(maliste)"
      ],
      "execution_count": 7,
      "outputs": [
        {
          "output_type": "stream",
          "text": [
            "['hibou', 'caillou', 'chou']\n"
          ],
          "name": "stdout"
        }
      ]
    },
    {
      "cell_type": "markdown",
      "metadata": {
        "id": "BkrdV0Jkgw7_"
      },
      "source": [
        "**A vous** de lire les méthodes du type `list` [ici](https://docs.python.org/fr/3/tutorial/datastructures.html#more-on-lists) et de les utiliser pour répondre aux exercices ci-dessous.  \n",
        "## exercices sur les méthodes"
      ]
    },
    {
      "cell_type": "code",
      "metadata": {
        "id": "Skl2h078gtIP"
      },
      "source": [
        "cheptel = ['vache', 'cochon', 'cheval', 'vache', 'cochon', 'cochon', 'vache', 'cochon', 'cochon', 'cochon', 'vache', 'cochon', 'cochon', 'vache', 'cochon', 'cheval', 'chèvre', 'cochon', 'cochon']"
      ],
      "execution_count": 8,
      "outputs": []
    },
    {
      "cell_type": "code",
      "metadata": {
        "id": "KbO7wF7rgU8N"
      },
      "source": [
        "#ajoutez une vache à la liste avec une méthode\n"
      ],
      "execution_count": 10,
      "outputs": []
    },
    {
      "cell_type": "code",
      "metadata": {
        "id": "JFtwcZ6jiHH0"
      },
      "source": [
        "#ajoutez maintenant trois moutons, en une seule instruction\n",
        "\n"
      ],
      "execution_count": 16,
      "outputs": []
    },
    {
      "cell_type": "code",
      "metadata": {
        "id": "eGYC1JPLiuf0"
      },
      "source": [
        "#affichez le nombre de vaches que contient la liste\n",
        "\n"
      ],
      "execution_count": 17,
      "outputs": []
    },
    {
      "cell_type": "code",
      "metadata": {
        "id": "ErUJR6-JizFI"
      },
      "source": [
        "#affichez l'indice auquel se trouve la chèvre\n",
        "\n"
      ],
      "execution_count": 18,
      "outputs": []
    },
    {
      "cell_type": "code",
      "metadata": {
        "id": "WT45si7Mi7ij"
      },
      "source": [
        "#utilisez cet indice pour supprimer la chèvre (sans la blesser svp) ; vérifiez\n",
        "\n"
      ],
      "execution_count": 20,
      "outputs": []
    },
    {
      "cell_type": "code",
      "metadata": {
        "id": "imHM5IINl95J"
      },
      "source": [
        "#supprimez le premier cheval de la liste, sans vous soucier de son indice\n",
        "\n"
      ],
      "execution_count": 26,
      "outputs": []
    },
    {
      "cell_type": "code",
      "metadata": {
        "id": "vsmcmtlVjAIi"
      },
      "source": [
        "#inversez l'ordre de la liste puis affichez-la pour vérifier\n",
        "\n"
      ],
      "execution_count": 21,
      "outputs": []
    },
    {
      "cell_type": "code",
      "metadata": {
        "id": "X9VkdIEijicS"
      },
      "source": [
        "#insérez un chat à l'indice 5 et affichez juste l'élément d'indice 5 pour vérifier\n",
        "\n"
      ],
      "execution_count": 25,
      "outputs": []
    },
    {
      "cell_type": "code",
      "metadata": {
        "id": "L1UKtcRIjs1z"
      },
      "source": [
        "# enfin, triez la liste et vérifiez"
      ],
      "execution_count": 27,
      "outputs": []
    },
    {
      "cell_type": "code",
      "metadata": {
        "id": "4FLxBThEjuuT"
      },
      "source": [
        ""
      ],
      "execution_count": null,
      "outputs": []
    }
  ]
}