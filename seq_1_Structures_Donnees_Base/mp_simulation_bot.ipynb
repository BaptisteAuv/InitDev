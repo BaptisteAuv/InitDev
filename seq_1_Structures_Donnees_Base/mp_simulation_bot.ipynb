{
  "nbformat": 4,
  "nbformat_minor": 0,
  "metadata": {
    "colab": {
      "name": "simul_bot.ipynb",
      "provenance": [],
      "collapsed_sections": []
    },
    "kernelspec": {
      "name": "python3",
      "display_name": "Python 3"
    },
    "language_info": {
      "name": "python"
    }
  },
  "cells": [
    {
      "cell_type": "markdown",
      "metadata": {
        "id": "mkTW5ovR7aJN"
      },
      "source": [
        "#simulation d'un bot et analyse statistique"
      ]
    },
    {
      "cell_type": "markdown",
      "metadata": {
        "id": "wS6hmbTv7nSA"
      },
      "source": [
        "On considère un batiment constitué de 6 pièces agencées sous la forme  \n",
        "A B C  \n",
        "D E F  \n",
        "Il peut d'agir d'un bâtiment réel ou virtuel (par ex dans un jeu vidéo).  \n",
        "Un bot représentant un personnage non joueur mène la garde dans le bâtiment.  \n",
        "Au temps 0, il se trouve en A.\n",
        "A chaque nouveau pas de temps, le bot se déplace au hasard dans une pièce adjacente, avec la même probabilité pour chacune des directions possibles. Le bot ne se déplace pas en diagonale.\n",
        "Lorsque le bot revient *pour la troisième fois* dans la pièce F, alors son mouvement cesse et il reste en définitivement en F."
      ]
    },
    {
      "cell_type": "markdown",
      "metadata": {
        "id": "m0zc5-lz85vn"
      },
      "source": [
        "On souhaiterait répondre aux questions suivantes :  \n",
        "1) Quel est le temps moyen que prend le processus pour que le bot termine son mouvement ?  \n",
        "2) Quand le mouvement du bot est terminé, combien de fois est passé le bot en D en moyenne ? (un joueur se cache en D alors cette quantité est importante)"
      ]
    },
    {
      "cell_type": "markdown",
      "metadata": {
        "id": "WcR9WdSQ9wQ9"
      },
      "source": [
        "## version hyper basique sans fonctions sans dict sans rien"
      ]
    },
    {
      "cell_type": "code",
      "metadata": {
        "id": "RUDenHvJfnef"
      },
      "source": [
        "import random"
      ],
      "execution_count": 3,
      "outputs": []
    },
    {
      "cell_type": "code",
      "metadata": {
        "colab": {
          "base_uri": "https://localhost:8080/"
        },
        "id": "ZDwPkzRj800S",
        "outputId": "57c6aaf4-28ad-4794-d090-0976923b0924"
      },
      "source": [
        "\n",
        "t = 0\n",
        "en_cours = True\n",
        "nb_visites_F = 0\n",
        "position = 'A'\n",
        "while(en_cours):\n",
        "    print(position, end = ' ')\n",
        "    if position=='A':\n",
        "        r = random.randint(1,2)\n",
        "        if r==1:\n",
        "            position = 'B'\n",
        "        else:\n",
        "            position = 'D'\n",
        "    elif position=='B':\n",
        "        r = random.randint(1,3)\n",
        "        if r==1:\n",
        "            position = 'A'\n",
        "        elif r==2:\n",
        "            position = 'E'\n",
        "        else:\n",
        "            position = 'C'\n",
        "    elif position=='C':\n",
        "        r = random.randint(1,2)\n",
        "        if r==1:\n",
        "            position = 'B'\n",
        "        else:\n",
        "            position = 'F'\n",
        "    elif position=='D':\n",
        "        r = random.randint(1,2)\n",
        "        if r==1:\n",
        "            position = 'A'\n",
        "        else:\n",
        "            position = 'E'\n",
        "    elif position=='E':\n",
        "        r = random.randint(1,3)\n",
        "        if r==1:\n",
        "            position = 'D'\n",
        "        elif r==2:\n",
        "            position = 'B'\n",
        "        else:\n",
        "            position = 'F'\n",
        "    elif position=='F':\n",
        "        nb_visites_F += 1\n",
        "        if nb_visites_F < 3:\n",
        "            r = random.randint(1,2)\n",
        "            if r==1:\n",
        "                position = 'E'\n",
        "            else:\n",
        "                position = 'C'\n",
        "        else:\n",
        "            en_cours = False\n"
      ],
      "execution_count": null,
      "outputs": [
        {
          "output_type": "stream",
          "text": [
            "A D A B E B E B E D E D A B C B E F E F C F "
          ],
          "name": "stdout"
        }
      ]
    },
    {
      "cell_type": "code",
      "metadata": {
        "id": "ifl6kOyOUR30"
      },
      "source": [
        "LE code précédent fait juste une simulation. Pour répondre aux deux questions précédentes on peut le répéter et collecter des infos statistiques."
      ],
      "execution_count": null,
      "outputs": []
    },
    {
      "cell_type": "code",
      "metadata": {
        "id": "1Fr_PKto7XPp",
        "colab": {
          "base_uri": "https://localhost:8080/"
        },
        "outputId": "f1b44f45-ff2c-4a7b-9117-93526fbd6d67"
      },
      "source": [
        "nb_repet = 100\n",
        "somme_durees_totale = 0\n",
        "somme_passages_en_D = 0\n",
        "for i in range(nb_repet):\n",
        "    t = 0\n",
        "    en_cours = True\n",
        "    nb_visites_F = 0\n",
        "    position = 'A'\n",
        "\n",
        "    duree_totale = 0\n",
        "    passages_en_D = 0\n",
        "    while(en_cours):\n",
        "        duree_totale += 1\n",
        "        if position=='A':\n",
        "            r = random.randint(1,2)\n",
        "            if r==1:\n",
        "                position = 'B'\n",
        "            else:\n",
        "                position = 'D'\n",
        "        elif position=='B':\n",
        "            r = random.randint(1,3)\n",
        "            if r==1:\n",
        "                position = 'A'\n",
        "            elif r==2:\n",
        "                position = 'E'\n",
        "            else:\n",
        "                position = 'C'\n",
        "        elif position=='C':\n",
        "            r = random.randint(1,2)\n",
        "            if r==1:\n",
        "                position = 'B'\n",
        "            else:\n",
        "                position = 'F'\n",
        "        elif position=='D':\n",
        "            passages_en_D += 1\n",
        "            r = random.randint(1,2)\n",
        "            if r==1:\n",
        "                position = 'A'\n",
        "            else:\n",
        "                position = 'E'\n",
        "        elif position=='E':\n",
        "            r = random.randint(1,3)\n",
        "            if r==1:\n",
        "                position = 'D'\n",
        "            elif r==2:\n",
        "                position = 'B'\n",
        "            else:\n",
        "                position = 'F'\n",
        "        elif position=='F':\n",
        "            nb_visites_F += 1\n",
        "            if nb_visites_F < 3:\n",
        "                r = random.randint(1,2)\n",
        "                if r==1:\n",
        "                    position = 'E'\n",
        "                else:\n",
        "                    position = 'C'\n",
        "            else:\n",
        "                en_cours = False\n",
        "    somme_durees_totale += duree_totale\n",
        "    somme_passages_en_D += passages_en_D\n",
        "print(\"duree moyenne d'un épisode :\", somme_durees_totale/nb_repet)\n",
        "print(\"nb moyen de passages en D :\", somme_passages_en_D/nb_repet)"
      ],
      "execution_count": null,
      "outputs": [
        {
          "output_type": "stream",
          "text": [
            "duree moyenne d'un épisode : 26.36\n",
            "nb moyen de passages en D : 4.66\n"
          ],
          "name": "stdout"
        }
      ]
    },
    {
      "cell_type": "markdown",
      "metadata": {
        "id": "VUlEK9hWWI73"
      },
      "source": [
        "## Version plus avancee avec des dictionnaires pour les voisins et des fonctions"
      ]
    },
    {
      "cell_type": "code",
      "metadata": {
        "id": "xkKpIRDOWIBu"
      },
      "source": [
        "voisins = {'A' : ['B', 'D'], \n",
        "           'B' : ['A', 'E', 'C'], \n",
        "           'C': ['B','F'], \n",
        "           'D' : ['A', 'E'], \n",
        "           'E' : ['D', 'B', 'F'], \n",
        "           'F': ['E','C'],}"
      ],
      "execution_count": 1,
      "outputs": []
    },
    {
      "cell_type": "code",
      "metadata": {
        "id": "jHbpoHj8VArg"
      },
      "source": [
        "def transition(piece):\n",
        "    r = random.randint(0,len(voisins[piece])-1)\n",
        "    return voisins[piece][r]"
      ],
      "execution_count": 2,
      "outputs": []
    },
    {
      "cell_type": "code",
      "metadata": {
        "id": "O_RMS73bXdzM"
      },
      "source": [
        "def episode():\n",
        "    en_cours = True\n",
        "    position = 'A'\n",
        "    historique = ['A']\n",
        "    nb_visites_F = 0\n",
        "    while en_cours:\n",
        "        position = transition(position)\n",
        "        historique.append(position)\n",
        "        if position=='F':\n",
        "            nb_visites_F += 1\n",
        "            if nb_visites_F==3:\n",
        "                en_cours = False\n",
        "    return historique"
      ],
      "execution_count": 4,
      "outputs": []
    },
    {
      "cell_type": "code",
      "metadata": {
        "id": "v4Yhhoo7ftkn"
      },
      "source": [
        "def moyenne(l):\n",
        "    return sum(l) / len(l)"
      ],
      "execution_count": 5,
      "outputs": []
    },
    {
      "cell_type": "code",
      "metadata": {
        "id": "E8usKiR8YOBS"
      },
      "source": [
        "nb_repet = 1000\n",
        "simulations = [episode() for i in range(nb_repet)]"
      ],
      "execution_count": 6,
      "outputs": []
    },
    {
      "cell_type": "code",
      "metadata": {
        "id": "WJD2Jj9FfMDC"
      },
      "source": [
        "duree_moyenne = moyenne([len(e) for e in simulations])\n",
        "nb_moyen_passage_D = moyenne([e.count('D') for e in simulations])"
      ],
      "execution_count": 7,
      "outputs": []
    },
    {
      "cell_type": "code",
      "metadata": {
        "colab": {
          "base_uri": "https://localhost:8080/"
        },
        "id": "d9clyWcbf_-b",
        "outputId": "6529782a-24b0-4278-928b-c4dfbab3c857"
      },
      "source": [
        "print(duree_moyenne, nb_moyen_passage_D)"
      ],
      "execution_count": 8,
      "outputs": [
        {
          "output_type": "stream",
          "text": [
            "24.306 3.896\n"
          ],
          "name": "stdout"
        }
      ]
    },
    {
      "cell_type": "code",
      "metadata": {
        "id": "nEsc1OOpgGvV"
      },
      "source": [
        ""
      ],
      "execution_count": null,
      "outputs": []
    }
  ]
}