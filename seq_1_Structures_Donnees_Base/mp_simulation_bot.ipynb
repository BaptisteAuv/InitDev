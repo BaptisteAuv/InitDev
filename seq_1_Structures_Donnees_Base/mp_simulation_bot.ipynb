{
  "nbformat": 4,
  "nbformat_minor": 0,
  "metadata": {
    "colab": {
      "name": "Untitled1.ipynb",
      "provenance": []
    },
    "kernelspec": {
      "name": "python3",
      "display_name": "Python 3"
    },
    "language_info": {
      "name": "python"
    }
  },
  "cells": [
    {
      "cell_type": "markdown",
      "metadata": {
        "id": "mkTW5ovR7aJN"
      },
      "source": [
        "#simulation d'un bot et analyse statistique"
      ]
    },
    {
      "cell_type": "markdown",
      "metadata": {
        "id": "wS6hmbTv7nSA"
      },
      "source": [
        "On considère un batiment constitué de 6 pièces agencées sous la forme  \n",
        "A B C  \n",
        "D E F  \n",
        "Il peut d'agir d'un bâtiment réel ou virtuel (par ex dans un jeu vidéo).  \n",
        "Un bot représentant un personnage non joueur mène la garde dans le bâtiment.  \n",
        "Au temps 0, il se trouve en A.\n",
        "A chaque nouveau pas de temps, le bot se déplace au hasard dans une pièce adjacente, avec la même probabilité pour chacune des directions possibles. Le bot ne se déplace pas en diagonale.\n",
        "Lorsque le bot revient *pour la troisième fois* dans la pièce F, alors son mouvement cesse et il reste en définitivement en F."
      ]
    },
    {
      "cell_type": "markdown",
      "metadata": {
        "id": "m0zc5-lz85vn"
      },
      "source": [
        "On souhaiterait répondre aux questions suivantes :  \n",
        "1) Quel est le temps moyen que prend le processus pour que le bot termine son mouvement ?  \n",
        "2) Quand le mouvement du bot est terminé, combien de fois est passé le bot en D en moyenne ? (un joueur se cache en D alors cette quantité est importante)"
      ]
    },
    {
      "cell_type": "markdown",
      "metadata": {
        "id": "WcR9WdSQ9wQ9"
      },
      "source": [
        "## version hyper basique sans fonctions sans dict sans rien"
      ]
    },
    {
      "cell_type": "code",
      "metadata": {
        "colab": {
          "base_uri": "https://localhost:8080/"
        },
        "id": "ZDwPkzRj800S",
        "outputId": "48415e0e-3c54-439a-c874-d918b8d60486"
      },
      "source": [
        "import random\n",
        "t = 0\n",
        "en_cours = True\n",
        "nb_visites_F = 0\n",
        "position = 'A'\n",
        "while(en_cours):\n",
        "    print(position, end = ' ')\n",
        "    if position=='A':\n",
        "        r = random.randint(1,2)\n",
        "        if r==1:\n",
        "            position = 'B'\n",
        "        else:\n",
        "            position = 'D'\n",
        "    elif position=='B':\n",
        "        r = random.randint(1,3)\n",
        "        if r==1:\n",
        "            position = 'A'\n",
        "        elif r==2:\n",
        "            position = 'E'\n",
        "        else:\n",
        "            position = 'C'\n",
        "    elif position=='C':\n",
        "        r = random.randint(1,2)\n",
        "        if r==1:\n",
        "            position = 'B'\n",
        "        else:\n",
        "            position = 'F'\n",
        "    elif position=='D':\n",
        "        r = random.randint(1,2)\n",
        "        if r==1:\n",
        "            position = 'A'\n",
        "        else:\n",
        "            position = 'E'\n",
        "    elif position=='E':\n",
        "        r = random.randint(1,3)\n",
        "        if r==1:\n",
        "            position = 'D'\n",
        "        elif r==2:\n",
        "            position = 'B'\n",
        "        else:\n",
        "            position = 'F'\n",
        "    elif position=='F':\n",
        "        nb_visites_F += 1\n",
        "        if nb_visites_F < 3:\n",
        "            r = random.randint(1,2)\n",
        "            if r==1:\n",
        "                position = 'E'\n",
        "            else:\n",
        "                position = 'C'\n",
        "        else:\n",
        "            en_cours = False\n"
      ],
      "execution_count": 3,
      "outputs": [
        {
          "output_type": "stream",
          "text": [
            "A D E D A D E D A B A D E D E D A B A B C B C B A B A D A B E F E F C B A D E F "
          ],
          "name": "stdout"
        }
      ]
    },
    {
      "cell_type": "code",
      "metadata": {
        "id": "1Fr_PKto7XPp"
      },
      "source": [
        "Il peut s'a"
      ],
      "execution_count": null,
      "outputs": []
    }
  ]
}